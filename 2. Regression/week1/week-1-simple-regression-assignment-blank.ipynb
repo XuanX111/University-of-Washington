{
 "cells": [
  {
   "cell_type": "markdown",
   "metadata": {},
   "source": [
    "# Regression Week 1: Simple Linear Regression"
   ]
  },
  {
   "cell_type": "markdown",
   "metadata": {},
   "source": [
    "In this notebook we will use data on house sales in King County to predict house prices using simple (one input) linear regression. You will:\n",
    "* Use graphlab SArray and SFrame functions to compute important summary statistics\n",
    "* Write a function to compute the Simple Linear Regression weights using the closed form solution\n",
    "* Write a function to make predictions of the output given the input feature\n",
    "* Turn the regression around to predict the input given the output\n",
    "* Compare two different models for predicting house prices\n",
    "\n",
    "In this notebook you will be provided with some already complete code as well as some code that you should complete yourself in order to answer quiz questions. The code we provide to complte is optional and is there to assist you with solving the problems but feel free to ignore the helper code and write your own."
   ]
  },
  {
   "cell_type": "markdown",
   "metadata": {},
   "source": [
    "# Fire up graphlab create"
   ]
  },
  {
   "cell_type": "code",
   "execution_count": 1,
   "metadata": {
    "collapsed": false
   },
   "outputs": [],
   "source": [
    "import graphlab"
   ]
  },
  {
   "cell_type": "markdown",
   "metadata": {},
   "source": [
    "# Load house sales data\n",
    "\n",
    "Dataset is from house sales in King County, the region where the city of Seattle, WA is located."
   ]
  },
  {
   "cell_type": "code",
   "execution_count": 2,
   "metadata": {
    "collapsed": false
   },
   "outputs": [
    {
     "name": "stderr",
     "output_type": "stream",
     "text": [
      "[INFO] graphlab.cython.cy_server: GraphLab Create v2.1 started. Logging: /tmp/graphlab_server_1485191996.log\n"
     ]
    },
    {
     "name": "stdout",
     "output_type": "stream",
     "text": [
      "This non-commercial license of GraphLab Create for academic use is assigned to sherryqixuan@ou.edu and will expire on January 10, 2018.\n"
     ]
    }
   ],
   "source": [
    "sales = graphlab.SFrame('kc_house_data.gl/')"
   ]
  },
  {
   "cell_type": "markdown",
   "metadata": {},
   "source": [
    "# Split data into training and testing"
   ]
  },
  {
   "cell_type": "markdown",
   "metadata": {},
   "source": [
    "We use seed=0 so that everyone running this notebook gets the same results.  In practice, you may set a random seed (or let GraphLab Create pick a random seed for you).  "
   ]
  },
  {
   "cell_type": "code",
   "execution_count": 4,
   "metadata": {
    "collapsed": false
   },
   "outputs": [
    {
     "data": {
      "text/html": [
       "<div style=\"max-height:1000px;max-width:1500px;overflow:auto;\"><table frame=\"box\" rules=\"cols\">\n",
       "    <tr>\n",
       "        <th style=\"padding-left: 1em; padding-right: 1em; text-align: center\">id</th>\n",
       "        <th style=\"padding-left: 1em; padding-right: 1em; text-align: center\">date</th>\n",
       "        <th style=\"padding-left: 1em; padding-right: 1em; text-align: center\">price</th>\n",
       "        <th style=\"padding-left: 1em; padding-right: 1em; text-align: center\">bedrooms</th>\n",
       "        <th style=\"padding-left: 1em; padding-right: 1em; text-align: center\">bathrooms</th>\n",
       "        <th style=\"padding-left: 1em; padding-right: 1em; text-align: center\">sqft_living</th>\n",
       "        <th style=\"padding-left: 1em; padding-right: 1em; text-align: center\">sqft_lot</th>\n",
       "        <th style=\"padding-left: 1em; padding-right: 1em; text-align: center\">floors</th>\n",
       "        <th style=\"padding-left: 1em; padding-right: 1em; text-align: center\">waterfront</th>\n",
       "    </tr>\n",
       "    <tr>\n",
       "        <td style=\"padding-left: 1em; padding-right: 1em; text-align: center; vertical-align: top\">7129300520</td>\n",
       "        <td style=\"padding-left: 1em; padding-right: 1em; text-align: center; vertical-align: top\">2014-10-13 00:00:00+00:00</td>\n",
       "        <td style=\"padding-left: 1em; padding-right: 1em; text-align: center; vertical-align: top\">221900.0</td>\n",
       "        <td style=\"padding-left: 1em; padding-right: 1em; text-align: center; vertical-align: top\">3.0</td>\n",
       "        <td style=\"padding-left: 1em; padding-right: 1em; text-align: center; vertical-align: top\">1.0</td>\n",
       "        <td style=\"padding-left: 1em; padding-right: 1em; text-align: center; vertical-align: top\">1180.0</td>\n",
       "        <td style=\"padding-left: 1em; padding-right: 1em; text-align: center; vertical-align: top\">5650</td>\n",
       "        <td style=\"padding-left: 1em; padding-right: 1em; text-align: center; vertical-align: top\">1</td>\n",
       "        <td style=\"padding-left: 1em; padding-right: 1em; text-align: center; vertical-align: top\">0</td>\n",
       "    </tr>\n",
       "    <tr>\n",
       "        <td style=\"padding-left: 1em; padding-right: 1em; text-align: center; vertical-align: top\">6414100192</td>\n",
       "        <td style=\"padding-left: 1em; padding-right: 1em; text-align: center; vertical-align: top\">2014-12-09 00:00:00+00:00</td>\n",
       "        <td style=\"padding-left: 1em; padding-right: 1em; text-align: center; vertical-align: top\">538000.0</td>\n",
       "        <td style=\"padding-left: 1em; padding-right: 1em; text-align: center; vertical-align: top\">3.0</td>\n",
       "        <td style=\"padding-left: 1em; padding-right: 1em; text-align: center; vertical-align: top\">2.25</td>\n",
       "        <td style=\"padding-left: 1em; padding-right: 1em; text-align: center; vertical-align: top\">2570.0</td>\n",
       "        <td style=\"padding-left: 1em; padding-right: 1em; text-align: center; vertical-align: top\">7242</td>\n",
       "        <td style=\"padding-left: 1em; padding-right: 1em; text-align: center; vertical-align: top\">2</td>\n",
       "        <td style=\"padding-left: 1em; padding-right: 1em; text-align: center; vertical-align: top\">0</td>\n",
       "    </tr>\n",
       "    <tr>\n",
       "        <td style=\"padding-left: 1em; padding-right: 1em; text-align: center; vertical-align: top\">5631500400</td>\n",
       "        <td style=\"padding-left: 1em; padding-right: 1em; text-align: center; vertical-align: top\">2015-02-25 00:00:00+00:00</td>\n",
       "        <td style=\"padding-left: 1em; padding-right: 1em; text-align: center; vertical-align: top\">180000.0</td>\n",
       "        <td style=\"padding-left: 1em; padding-right: 1em; text-align: center; vertical-align: top\">2.0</td>\n",
       "        <td style=\"padding-left: 1em; padding-right: 1em; text-align: center; vertical-align: top\">1.0</td>\n",
       "        <td style=\"padding-left: 1em; padding-right: 1em; text-align: center; vertical-align: top\">770.0</td>\n",
       "        <td style=\"padding-left: 1em; padding-right: 1em; text-align: center; vertical-align: top\">10000</td>\n",
       "        <td style=\"padding-left: 1em; padding-right: 1em; text-align: center; vertical-align: top\">1</td>\n",
       "        <td style=\"padding-left: 1em; padding-right: 1em; text-align: center; vertical-align: top\">0</td>\n",
       "    </tr>\n",
       "    <tr>\n",
       "        <td style=\"padding-left: 1em; padding-right: 1em; text-align: center; vertical-align: top\">2487200875</td>\n",
       "        <td style=\"padding-left: 1em; padding-right: 1em; text-align: center; vertical-align: top\">2014-12-09 00:00:00+00:00</td>\n",
       "        <td style=\"padding-left: 1em; padding-right: 1em; text-align: center; vertical-align: top\">604000.0</td>\n",
       "        <td style=\"padding-left: 1em; padding-right: 1em; text-align: center; vertical-align: top\">4.0</td>\n",
       "        <td style=\"padding-left: 1em; padding-right: 1em; text-align: center; vertical-align: top\">3.0</td>\n",
       "        <td style=\"padding-left: 1em; padding-right: 1em; text-align: center; vertical-align: top\">1960.0</td>\n",
       "        <td style=\"padding-left: 1em; padding-right: 1em; text-align: center; vertical-align: top\">5000</td>\n",
       "        <td style=\"padding-left: 1em; padding-right: 1em; text-align: center; vertical-align: top\">1</td>\n",
       "        <td style=\"padding-left: 1em; padding-right: 1em; text-align: center; vertical-align: top\">0</td>\n",
       "    </tr>\n",
       "    <tr>\n",
       "        <td style=\"padding-left: 1em; padding-right: 1em; text-align: center; vertical-align: top\">1954400510</td>\n",
       "        <td style=\"padding-left: 1em; padding-right: 1em; text-align: center; vertical-align: top\">2015-02-18 00:00:00+00:00</td>\n",
       "        <td style=\"padding-left: 1em; padding-right: 1em; text-align: center; vertical-align: top\">510000.0</td>\n",
       "        <td style=\"padding-left: 1em; padding-right: 1em; text-align: center; vertical-align: top\">3.0</td>\n",
       "        <td style=\"padding-left: 1em; padding-right: 1em; text-align: center; vertical-align: top\">2.0</td>\n",
       "        <td style=\"padding-left: 1em; padding-right: 1em; text-align: center; vertical-align: top\">1680.0</td>\n",
       "        <td style=\"padding-left: 1em; padding-right: 1em; text-align: center; vertical-align: top\">8080</td>\n",
       "        <td style=\"padding-left: 1em; padding-right: 1em; text-align: center; vertical-align: top\">1</td>\n",
       "        <td style=\"padding-left: 1em; padding-right: 1em; text-align: center; vertical-align: top\">0</td>\n",
       "    </tr>\n",
       "    <tr>\n",
       "        <td style=\"padding-left: 1em; padding-right: 1em; text-align: center; vertical-align: top\">7237550310</td>\n",
       "        <td style=\"padding-left: 1em; padding-right: 1em; text-align: center; vertical-align: top\">2014-05-12 00:00:00+00:00</td>\n",
       "        <td style=\"padding-left: 1em; padding-right: 1em; text-align: center; vertical-align: top\">1225000.0</td>\n",
       "        <td style=\"padding-left: 1em; padding-right: 1em; text-align: center; vertical-align: top\">4.0</td>\n",
       "        <td style=\"padding-left: 1em; padding-right: 1em; text-align: center; vertical-align: top\">4.5</td>\n",
       "        <td style=\"padding-left: 1em; padding-right: 1em; text-align: center; vertical-align: top\">5420.0</td>\n",
       "        <td style=\"padding-left: 1em; padding-right: 1em; text-align: center; vertical-align: top\">101930</td>\n",
       "        <td style=\"padding-left: 1em; padding-right: 1em; text-align: center; vertical-align: top\">1</td>\n",
       "        <td style=\"padding-left: 1em; padding-right: 1em; text-align: center; vertical-align: top\">0</td>\n",
       "    </tr>\n",
       "    <tr>\n",
       "        <td style=\"padding-left: 1em; padding-right: 1em; text-align: center; vertical-align: top\">1321400060</td>\n",
       "        <td style=\"padding-left: 1em; padding-right: 1em; text-align: center; vertical-align: top\">2014-06-27 00:00:00+00:00</td>\n",
       "        <td style=\"padding-left: 1em; padding-right: 1em; text-align: center; vertical-align: top\">257500.0</td>\n",
       "        <td style=\"padding-left: 1em; padding-right: 1em; text-align: center; vertical-align: top\">3.0</td>\n",
       "        <td style=\"padding-left: 1em; padding-right: 1em; text-align: center; vertical-align: top\">2.25</td>\n",
       "        <td style=\"padding-left: 1em; padding-right: 1em; text-align: center; vertical-align: top\">1715.0</td>\n",
       "        <td style=\"padding-left: 1em; padding-right: 1em; text-align: center; vertical-align: top\">6819</td>\n",
       "        <td style=\"padding-left: 1em; padding-right: 1em; text-align: center; vertical-align: top\">2</td>\n",
       "        <td style=\"padding-left: 1em; padding-right: 1em; text-align: center; vertical-align: top\">0</td>\n",
       "    </tr>\n",
       "    <tr>\n",
       "        <td style=\"padding-left: 1em; padding-right: 1em; text-align: center; vertical-align: top\">2008000270</td>\n",
       "        <td style=\"padding-left: 1em; padding-right: 1em; text-align: center; vertical-align: top\">2015-01-15 00:00:00+00:00</td>\n",
       "        <td style=\"padding-left: 1em; padding-right: 1em; text-align: center; vertical-align: top\">291850.0</td>\n",
       "        <td style=\"padding-left: 1em; padding-right: 1em; text-align: center; vertical-align: top\">3.0</td>\n",
       "        <td style=\"padding-left: 1em; padding-right: 1em; text-align: center; vertical-align: top\">1.5</td>\n",
       "        <td style=\"padding-left: 1em; padding-right: 1em; text-align: center; vertical-align: top\">1060.0</td>\n",
       "        <td style=\"padding-left: 1em; padding-right: 1em; text-align: center; vertical-align: top\">9711</td>\n",
       "        <td style=\"padding-left: 1em; padding-right: 1em; text-align: center; vertical-align: top\">1</td>\n",
       "        <td style=\"padding-left: 1em; padding-right: 1em; text-align: center; vertical-align: top\">0</td>\n",
       "    </tr>\n",
       "    <tr>\n",
       "        <td style=\"padding-left: 1em; padding-right: 1em; text-align: center; vertical-align: top\">2414600126</td>\n",
       "        <td style=\"padding-left: 1em; padding-right: 1em; text-align: center; vertical-align: top\">2015-04-15 00:00:00+00:00</td>\n",
       "        <td style=\"padding-left: 1em; padding-right: 1em; text-align: center; vertical-align: top\">229500.0</td>\n",
       "        <td style=\"padding-left: 1em; padding-right: 1em; text-align: center; vertical-align: top\">3.0</td>\n",
       "        <td style=\"padding-left: 1em; padding-right: 1em; text-align: center; vertical-align: top\">1.0</td>\n",
       "        <td style=\"padding-left: 1em; padding-right: 1em; text-align: center; vertical-align: top\">1780.0</td>\n",
       "        <td style=\"padding-left: 1em; padding-right: 1em; text-align: center; vertical-align: top\">7470</td>\n",
       "        <td style=\"padding-left: 1em; padding-right: 1em; text-align: center; vertical-align: top\">1</td>\n",
       "        <td style=\"padding-left: 1em; padding-right: 1em; text-align: center; vertical-align: top\">0</td>\n",
       "    </tr>\n",
       "    <tr>\n",
       "        <td style=\"padding-left: 1em; padding-right: 1em; text-align: center; vertical-align: top\">3793500160</td>\n",
       "        <td style=\"padding-left: 1em; padding-right: 1em; text-align: center; vertical-align: top\">2015-03-12 00:00:00+00:00</td>\n",
       "        <td style=\"padding-left: 1em; padding-right: 1em; text-align: center; vertical-align: top\">323000.0</td>\n",
       "        <td style=\"padding-left: 1em; padding-right: 1em; text-align: center; vertical-align: top\">3.0</td>\n",
       "        <td style=\"padding-left: 1em; padding-right: 1em; text-align: center; vertical-align: top\">2.5</td>\n",
       "        <td style=\"padding-left: 1em; padding-right: 1em; text-align: center; vertical-align: top\">1890.0</td>\n",
       "        <td style=\"padding-left: 1em; padding-right: 1em; text-align: center; vertical-align: top\">6560</td>\n",
       "        <td style=\"padding-left: 1em; padding-right: 1em; text-align: center; vertical-align: top\">2</td>\n",
       "        <td style=\"padding-left: 1em; padding-right: 1em; text-align: center; vertical-align: top\">0</td>\n",
       "    </tr>\n",
       "</table>\n",
       "<table frame=\"box\" rules=\"cols\">\n",
       "    <tr>\n",
       "        <th style=\"padding-left: 1em; padding-right: 1em; text-align: center\">view</th>\n",
       "        <th style=\"padding-left: 1em; padding-right: 1em; text-align: center\">condition</th>\n",
       "        <th style=\"padding-left: 1em; padding-right: 1em; text-align: center\">grade</th>\n",
       "        <th style=\"padding-left: 1em; padding-right: 1em; text-align: center\">sqft_above</th>\n",
       "        <th style=\"padding-left: 1em; padding-right: 1em; text-align: center\">sqft_basement</th>\n",
       "        <th style=\"padding-left: 1em; padding-right: 1em; text-align: center\">yr_built</th>\n",
       "        <th style=\"padding-left: 1em; padding-right: 1em; text-align: center\">yr_renovated</th>\n",
       "        <th style=\"padding-left: 1em; padding-right: 1em; text-align: center\">zipcode</th>\n",
       "        <th style=\"padding-left: 1em; padding-right: 1em; text-align: center\">lat</th>\n",
       "    </tr>\n",
       "    <tr>\n",
       "        <td style=\"padding-left: 1em; padding-right: 1em; text-align: center; vertical-align: top\">0</td>\n",
       "        <td style=\"padding-left: 1em; padding-right: 1em; text-align: center; vertical-align: top\">3</td>\n",
       "        <td style=\"padding-left: 1em; padding-right: 1em; text-align: center; vertical-align: top\">7</td>\n",
       "        <td style=\"padding-left: 1em; padding-right: 1em; text-align: center; vertical-align: top\">1180</td>\n",
       "        <td style=\"padding-left: 1em; padding-right: 1em; text-align: center; vertical-align: top\">0</td>\n",
       "        <td style=\"padding-left: 1em; padding-right: 1em; text-align: center; vertical-align: top\">1955</td>\n",
       "        <td style=\"padding-left: 1em; padding-right: 1em; text-align: center; vertical-align: top\">0</td>\n",
       "        <td style=\"padding-left: 1em; padding-right: 1em; text-align: center; vertical-align: top\">98178</td>\n",
       "        <td style=\"padding-left: 1em; padding-right: 1em; text-align: center; vertical-align: top\">47.51123398</td>\n",
       "    </tr>\n",
       "    <tr>\n",
       "        <td style=\"padding-left: 1em; padding-right: 1em; text-align: center; vertical-align: top\">0</td>\n",
       "        <td style=\"padding-left: 1em; padding-right: 1em; text-align: center; vertical-align: top\">3</td>\n",
       "        <td style=\"padding-left: 1em; padding-right: 1em; text-align: center; vertical-align: top\">7</td>\n",
       "        <td style=\"padding-left: 1em; padding-right: 1em; text-align: center; vertical-align: top\">2170</td>\n",
       "        <td style=\"padding-left: 1em; padding-right: 1em; text-align: center; vertical-align: top\">400</td>\n",
       "        <td style=\"padding-left: 1em; padding-right: 1em; text-align: center; vertical-align: top\">1951</td>\n",
       "        <td style=\"padding-left: 1em; padding-right: 1em; text-align: center; vertical-align: top\">1991</td>\n",
       "        <td style=\"padding-left: 1em; padding-right: 1em; text-align: center; vertical-align: top\">98125</td>\n",
       "        <td style=\"padding-left: 1em; padding-right: 1em; text-align: center; vertical-align: top\">47.72102274</td>\n",
       "    </tr>\n",
       "    <tr>\n",
       "        <td style=\"padding-left: 1em; padding-right: 1em; text-align: center; vertical-align: top\">0</td>\n",
       "        <td style=\"padding-left: 1em; padding-right: 1em; text-align: center; vertical-align: top\">3</td>\n",
       "        <td style=\"padding-left: 1em; padding-right: 1em; text-align: center; vertical-align: top\">6</td>\n",
       "        <td style=\"padding-left: 1em; padding-right: 1em; text-align: center; vertical-align: top\">770</td>\n",
       "        <td style=\"padding-left: 1em; padding-right: 1em; text-align: center; vertical-align: top\">0</td>\n",
       "        <td style=\"padding-left: 1em; padding-right: 1em; text-align: center; vertical-align: top\">1933</td>\n",
       "        <td style=\"padding-left: 1em; padding-right: 1em; text-align: center; vertical-align: top\">0</td>\n",
       "        <td style=\"padding-left: 1em; padding-right: 1em; text-align: center; vertical-align: top\">98028</td>\n",
       "        <td style=\"padding-left: 1em; padding-right: 1em; text-align: center; vertical-align: top\">47.73792661</td>\n",
       "    </tr>\n",
       "    <tr>\n",
       "        <td style=\"padding-left: 1em; padding-right: 1em; text-align: center; vertical-align: top\">0</td>\n",
       "        <td style=\"padding-left: 1em; padding-right: 1em; text-align: center; vertical-align: top\">5</td>\n",
       "        <td style=\"padding-left: 1em; padding-right: 1em; text-align: center; vertical-align: top\">7</td>\n",
       "        <td style=\"padding-left: 1em; padding-right: 1em; text-align: center; vertical-align: top\">1050</td>\n",
       "        <td style=\"padding-left: 1em; padding-right: 1em; text-align: center; vertical-align: top\">910</td>\n",
       "        <td style=\"padding-left: 1em; padding-right: 1em; text-align: center; vertical-align: top\">1965</td>\n",
       "        <td style=\"padding-left: 1em; padding-right: 1em; text-align: center; vertical-align: top\">0</td>\n",
       "        <td style=\"padding-left: 1em; padding-right: 1em; text-align: center; vertical-align: top\">98136</td>\n",
       "        <td style=\"padding-left: 1em; padding-right: 1em; text-align: center; vertical-align: top\">47.52082</td>\n",
       "    </tr>\n",
       "    <tr>\n",
       "        <td style=\"padding-left: 1em; padding-right: 1em; text-align: center; vertical-align: top\">0</td>\n",
       "        <td style=\"padding-left: 1em; padding-right: 1em; text-align: center; vertical-align: top\">3</td>\n",
       "        <td style=\"padding-left: 1em; padding-right: 1em; text-align: center; vertical-align: top\">8</td>\n",
       "        <td style=\"padding-left: 1em; padding-right: 1em; text-align: center; vertical-align: top\">1680</td>\n",
       "        <td style=\"padding-left: 1em; padding-right: 1em; text-align: center; vertical-align: top\">0</td>\n",
       "        <td style=\"padding-left: 1em; padding-right: 1em; text-align: center; vertical-align: top\">1987</td>\n",
       "        <td style=\"padding-left: 1em; padding-right: 1em; text-align: center; vertical-align: top\">0</td>\n",
       "        <td style=\"padding-left: 1em; padding-right: 1em; text-align: center; vertical-align: top\">98074</td>\n",
       "        <td style=\"padding-left: 1em; padding-right: 1em; text-align: center; vertical-align: top\">47.61681228</td>\n",
       "    </tr>\n",
       "    <tr>\n",
       "        <td style=\"padding-left: 1em; padding-right: 1em; text-align: center; vertical-align: top\">0</td>\n",
       "        <td style=\"padding-left: 1em; padding-right: 1em; text-align: center; vertical-align: top\">3</td>\n",
       "        <td style=\"padding-left: 1em; padding-right: 1em; text-align: center; vertical-align: top\">11</td>\n",
       "        <td style=\"padding-left: 1em; padding-right: 1em; text-align: center; vertical-align: top\">3890</td>\n",
       "        <td style=\"padding-left: 1em; padding-right: 1em; text-align: center; vertical-align: top\">1530</td>\n",
       "        <td style=\"padding-left: 1em; padding-right: 1em; text-align: center; vertical-align: top\">2001</td>\n",
       "        <td style=\"padding-left: 1em; padding-right: 1em; text-align: center; vertical-align: top\">0</td>\n",
       "        <td style=\"padding-left: 1em; padding-right: 1em; text-align: center; vertical-align: top\">98053</td>\n",
       "        <td style=\"padding-left: 1em; padding-right: 1em; text-align: center; vertical-align: top\">47.65611835</td>\n",
       "    </tr>\n",
       "    <tr>\n",
       "        <td style=\"padding-left: 1em; padding-right: 1em; text-align: center; vertical-align: top\">0</td>\n",
       "        <td style=\"padding-left: 1em; padding-right: 1em; text-align: center; vertical-align: top\">3</td>\n",
       "        <td style=\"padding-left: 1em; padding-right: 1em; text-align: center; vertical-align: top\">7</td>\n",
       "        <td style=\"padding-left: 1em; padding-right: 1em; text-align: center; vertical-align: top\">1715</td>\n",
       "        <td style=\"padding-left: 1em; padding-right: 1em; text-align: center; vertical-align: top\">0</td>\n",
       "        <td style=\"padding-left: 1em; padding-right: 1em; text-align: center; vertical-align: top\">1995</td>\n",
       "        <td style=\"padding-left: 1em; padding-right: 1em; text-align: center; vertical-align: top\">0</td>\n",
       "        <td style=\"padding-left: 1em; padding-right: 1em; text-align: center; vertical-align: top\">98003</td>\n",
       "        <td style=\"padding-left: 1em; padding-right: 1em; text-align: center; vertical-align: top\">47.30972002</td>\n",
       "    </tr>\n",
       "    <tr>\n",
       "        <td style=\"padding-left: 1em; padding-right: 1em; text-align: center; vertical-align: top\">0</td>\n",
       "        <td style=\"padding-left: 1em; padding-right: 1em; text-align: center; vertical-align: top\">3</td>\n",
       "        <td style=\"padding-left: 1em; padding-right: 1em; text-align: center; vertical-align: top\">7</td>\n",
       "        <td style=\"padding-left: 1em; padding-right: 1em; text-align: center; vertical-align: top\">1060</td>\n",
       "        <td style=\"padding-left: 1em; padding-right: 1em; text-align: center; vertical-align: top\">0</td>\n",
       "        <td style=\"padding-left: 1em; padding-right: 1em; text-align: center; vertical-align: top\">1963</td>\n",
       "        <td style=\"padding-left: 1em; padding-right: 1em; text-align: center; vertical-align: top\">0</td>\n",
       "        <td style=\"padding-left: 1em; padding-right: 1em; text-align: center; vertical-align: top\">98198</td>\n",
       "        <td style=\"padding-left: 1em; padding-right: 1em; text-align: center; vertical-align: top\">47.40949984</td>\n",
       "    </tr>\n",
       "    <tr>\n",
       "        <td style=\"padding-left: 1em; padding-right: 1em; text-align: center; vertical-align: top\">0</td>\n",
       "        <td style=\"padding-left: 1em; padding-right: 1em; text-align: center; vertical-align: top\">3</td>\n",
       "        <td style=\"padding-left: 1em; padding-right: 1em; text-align: center; vertical-align: top\">7</td>\n",
       "        <td style=\"padding-left: 1em; padding-right: 1em; text-align: center; vertical-align: top\">1050</td>\n",
       "        <td style=\"padding-left: 1em; padding-right: 1em; text-align: center; vertical-align: top\">730</td>\n",
       "        <td style=\"padding-left: 1em; padding-right: 1em; text-align: center; vertical-align: top\">1960</td>\n",
       "        <td style=\"padding-left: 1em; padding-right: 1em; text-align: center; vertical-align: top\">0</td>\n",
       "        <td style=\"padding-left: 1em; padding-right: 1em; text-align: center; vertical-align: top\">98146</td>\n",
       "        <td style=\"padding-left: 1em; padding-right: 1em; text-align: center; vertical-align: top\">47.51229381</td>\n",
       "    </tr>\n",
       "    <tr>\n",
       "        <td style=\"padding-left: 1em; padding-right: 1em; text-align: center; vertical-align: top\">0</td>\n",
       "        <td style=\"padding-left: 1em; padding-right: 1em; text-align: center; vertical-align: top\">3</td>\n",
       "        <td style=\"padding-left: 1em; padding-right: 1em; text-align: center; vertical-align: top\">7</td>\n",
       "        <td style=\"padding-left: 1em; padding-right: 1em; text-align: center; vertical-align: top\">1890</td>\n",
       "        <td style=\"padding-left: 1em; padding-right: 1em; text-align: center; vertical-align: top\">0</td>\n",
       "        <td style=\"padding-left: 1em; padding-right: 1em; text-align: center; vertical-align: top\">2003</td>\n",
       "        <td style=\"padding-left: 1em; padding-right: 1em; text-align: center; vertical-align: top\">0</td>\n",
       "        <td style=\"padding-left: 1em; padding-right: 1em; text-align: center; vertical-align: top\">98038</td>\n",
       "        <td style=\"padding-left: 1em; padding-right: 1em; text-align: center; vertical-align: top\">47.36840673</td>\n",
       "    </tr>\n",
       "</table>\n",
       "<table frame=\"box\" rules=\"cols\">\n",
       "    <tr>\n",
       "        <th style=\"padding-left: 1em; padding-right: 1em; text-align: center\">long</th>\n",
       "        <th style=\"padding-left: 1em; padding-right: 1em; text-align: center\">sqft_living15</th>\n",
       "        <th style=\"padding-left: 1em; padding-right: 1em; text-align: center\">sqft_lot15</th>\n",
       "    </tr>\n",
       "    <tr>\n",
       "        <td style=\"padding-left: 1em; padding-right: 1em; text-align: center; vertical-align: top\">-122.25677536</td>\n",
       "        <td style=\"padding-left: 1em; padding-right: 1em; text-align: center; vertical-align: top\">1340.0</td>\n",
       "        <td style=\"padding-left: 1em; padding-right: 1em; text-align: center; vertical-align: top\">5650.0</td>\n",
       "    </tr>\n",
       "    <tr>\n",
       "        <td style=\"padding-left: 1em; padding-right: 1em; text-align: center; vertical-align: top\">-122.3188624</td>\n",
       "        <td style=\"padding-left: 1em; padding-right: 1em; text-align: center; vertical-align: top\">1690.0</td>\n",
       "        <td style=\"padding-left: 1em; padding-right: 1em; text-align: center; vertical-align: top\">7639.0</td>\n",
       "    </tr>\n",
       "    <tr>\n",
       "        <td style=\"padding-left: 1em; padding-right: 1em; text-align: center; vertical-align: top\">-122.23319601</td>\n",
       "        <td style=\"padding-left: 1em; padding-right: 1em; text-align: center; vertical-align: top\">2720.0</td>\n",
       "        <td style=\"padding-left: 1em; padding-right: 1em; text-align: center; vertical-align: top\">8062.0</td>\n",
       "    </tr>\n",
       "    <tr>\n",
       "        <td style=\"padding-left: 1em; padding-right: 1em; text-align: center; vertical-align: top\">-122.39318505</td>\n",
       "        <td style=\"padding-left: 1em; padding-right: 1em; text-align: center; vertical-align: top\">1360.0</td>\n",
       "        <td style=\"padding-left: 1em; padding-right: 1em; text-align: center; vertical-align: top\">5000.0</td>\n",
       "    </tr>\n",
       "    <tr>\n",
       "        <td style=\"padding-left: 1em; padding-right: 1em; text-align: center; vertical-align: top\">-122.04490059</td>\n",
       "        <td style=\"padding-left: 1em; padding-right: 1em; text-align: center; vertical-align: top\">1800.0</td>\n",
       "        <td style=\"padding-left: 1em; padding-right: 1em; text-align: center; vertical-align: top\">7503.0</td>\n",
       "    </tr>\n",
       "    <tr>\n",
       "        <td style=\"padding-left: 1em; padding-right: 1em; text-align: center; vertical-align: top\">-122.00528655</td>\n",
       "        <td style=\"padding-left: 1em; padding-right: 1em; text-align: center; vertical-align: top\">4760.0</td>\n",
       "        <td style=\"padding-left: 1em; padding-right: 1em; text-align: center; vertical-align: top\">101930.0</td>\n",
       "    </tr>\n",
       "    <tr>\n",
       "        <td style=\"padding-left: 1em; padding-right: 1em; text-align: center; vertical-align: top\">-122.32704857</td>\n",
       "        <td style=\"padding-left: 1em; padding-right: 1em; text-align: center; vertical-align: top\">2238.0</td>\n",
       "        <td style=\"padding-left: 1em; padding-right: 1em; text-align: center; vertical-align: top\">6819.0</td>\n",
       "    </tr>\n",
       "    <tr>\n",
       "        <td style=\"padding-left: 1em; padding-right: 1em; text-align: center; vertical-align: top\">-122.31457273</td>\n",
       "        <td style=\"padding-left: 1em; padding-right: 1em; text-align: center; vertical-align: top\">1650.0</td>\n",
       "        <td style=\"padding-left: 1em; padding-right: 1em; text-align: center; vertical-align: top\">9711.0</td>\n",
       "    </tr>\n",
       "    <tr>\n",
       "        <td style=\"padding-left: 1em; padding-right: 1em; text-align: center; vertical-align: top\">-122.33659507</td>\n",
       "        <td style=\"padding-left: 1em; padding-right: 1em; text-align: center; vertical-align: top\">1780.0</td>\n",
       "        <td style=\"padding-left: 1em; padding-right: 1em; text-align: center; vertical-align: top\">8113.0</td>\n",
       "    </tr>\n",
       "    <tr>\n",
       "        <td style=\"padding-left: 1em; padding-right: 1em; text-align: center; vertical-align: top\">-122.0308176</td>\n",
       "        <td style=\"padding-left: 1em; padding-right: 1em; text-align: center; vertical-align: top\">2390.0</td>\n",
       "        <td style=\"padding-left: 1em; padding-right: 1em; text-align: center; vertical-align: top\">7570.0</td>\n",
       "    </tr>\n",
       "</table>\n",
       "[10 rows x 21 columns]<br/>\n",
       "</div>"
      ],
      "text/plain": [
       "Columns:\n",
       "\tid\tstr\n",
       "\tdate\tdatetime\n",
       "\tprice\tfloat\n",
       "\tbedrooms\tfloat\n",
       "\tbathrooms\tfloat\n",
       "\tsqft_living\tfloat\n",
       "\tsqft_lot\tint\n",
       "\tfloors\tstr\n",
       "\twaterfront\tint\n",
       "\tview\tint\n",
       "\tcondition\tint\n",
       "\tgrade\tint\n",
       "\tsqft_above\tint\n",
       "\tsqft_basement\tint\n",
       "\tyr_built\tint\n",
       "\tyr_renovated\tint\n",
       "\tzipcode\tstr\n",
       "\tlat\tfloat\n",
       "\tlong\tfloat\n",
       "\tsqft_living15\tfloat\n",
       "\tsqft_lot15\tfloat\n",
       "\n",
       "Rows: 10\n",
       "\n",
       "Data:\n",
       "+------------+---------------------------+-----------+----------+-----------+\n",
       "|     id     |            date           |   price   | bedrooms | bathrooms |\n",
       "+------------+---------------------------+-----------+----------+-----------+\n",
       "| 7129300520 | 2014-10-13 00:00:00+00:00 |  221900.0 |   3.0    |    1.0    |\n",
       "| 6414100192 | 2014-12-09 00:00:00+00:00 |  538000.0 |   3.0    |    2.25   |\n",
       "| 5631500400 | 2015-02-25 00:00:00+00:00 |  180000.0 |   2.0    |    1.0    |\n",
       "| 2487200875 | 2014-12-09 00:00:00+00:00 |  604000.0 |   4.0    |    3.0    |\n",
       "| 1954400510 | 2015-02-18 00:00:00+00:00 |  510000.0 |   3.0    |    2.0    |\n",
       "| 7237550310 | 2014-05-12 00:00:00+00:00 | 1225000.0 |   4.0    |    4.5    |\n",
       "| 1321400060 | 2014-06-27 00:00:00+00:00 |  257500.0 |   3.0    |    2.25   |\n",
       "| 2008000270 | 2015-01-15 00:00:00+00:00 |  291850.0 |   3.0    |    1.5    |\n",
       "| 2414600126 | 2015-04-15 00:00:00+00:00 |  229500.0 |   3.0    |    1.0    |\n",
       "| 3793500160 | 2015-03-12 00:00:00+00:00 |  323000.0 |   3.0    |    2.5    |\n",
       "+------------+---------------------------+-----------+----------+-----------+\n",
       "+-------------+----------+--------+------------+------+-----------+-------+------------+\n",
       "| sqft_living | sqft_lot | floors | waterfront | view | condition | grade | sqft_above |\n",
       "+-------------+----------+--------+------------+------+-----------+-------+------------+\n",
       "|    1180.0   |   5650   |   1    |     0      |  0   |     3     |   7   |    1180    |\n",
       "|    2570.0   |   7242   |   2    |     0      |  0   |     3     |   7   |    2170    |\n",
       "|    770.0    |  10000   |   1    |     0      |  0   |     3     |   6   |    770     |\n",
       "|    1960.0   |   5000   |   1    |     0      |  0   |     5     |   7   |    1050    |\n",
       "|    1680.0   |   8080   |   1    |     0      |  0   |     3     |   8   |    1680    |\n",
       "|    5420.0   |  101930  |   1    |     0      |  0   |     3     |   11  |    3890    |\n",
       "|    1715.0   |   6819   |   2    |     0      |  0   |     3     |   7   |    1715    |\n",
       "|    1060.0   |   9711   |   1    |     0      |  0   |     3     |   7   |    1060    |\n",
       "|    1780.0   |   7470   |   1    |     0      |  0   |     3     |   7   |    1050    |\n",
       "|    1890.0   |   6560   |   2    |     0      |  0   |     3     |   7   |    1890    |\n",
       "+-------------+----------+--------+------------+------+-----------+-------+------------+\n",
       "+---------------+----------+--------------+---------+-------------+\n",
       "| sqft_basement | yr_built | yr_renovated | zipcode |     lat     |\n",
       "+---------------+----------+--------------+---------+-------------+\n",
       "|       0       |   1955   |      0       |  98178  | 47.51123398 |\n",
       "|      400      |   1951   |     1991     |  98125  | 47.72102274 |\n",
       "|       0       |   1933   |      0       |  98028  | 47.73792661 |\n",
       "|      910      |   1965   |      0       |  98136  |   47.52082  |\n",
       "|       0       |   1987   |      0       |  98074  | 47.61681228 |\n",
       "|      1530     |   2001   |      0       |  98053  | 47.65611835 |\n",
       "|       0       |   1995   |      0       |  98003  | 47.30972002 |\n",
       "|       0       |   1963   |      0       |  98198  | 47.40949984 |\n",
       "|      730      |   1960   |      0       |  98146  | 47.51229381 |\n",
       "|       0       |   2003   |      0       |  98038  | 47.36840673 |\n",
       "+---------------+----------+--------------+---------+-------------+\n",
       "+---------------+---------------+-----+\n",
       "|      long     | sqft_living15 | ... |\n",
       "+---------------+---------------+-----+\n",
       "| -122.25677536 |     1340.0    | ... |\n",
       "|  -122.3188624 |     1690.0    | ... |\n",
       "| -122.23319601 |     2720.0    | ... |\n",
       "| -122.39318505 |     1360.0    | ... |\n",
       "| -122.04490059 |     1800.0    | ... |\n",
       "| -122.00528655 |     4760.0    | ... |\n",
       "| -122.32704857 |     2238.0    | ... |\n",
       "| -122.31457273 |     1650.0    | ... |\n",
       "| -122.33659507 |     1780.0    | ... |\n",
       "|  -122.0308176 |     2390.0    | ... |\n",
       "+---------------+---------------+-----+\n",
       "[10 rows x 21 columns]"
      ]
     },
     "execution_count": 4,
     "metadata": {},
     "output_type": "execute_result"
    }
   ],
   "source": [
    "sales.head()"
   ]
  },
  {
   "cell_type": "code",
   "execution_count": 3,
   "metadata": {
    "collapsed": false
   },
   "outputs": [],
   "source": [
    "train_data,test_data = sales.random_split(.8,seed=0)"
   ]
  },
  {
   "cell_type": "markdown",
   "metadata": {},
   "source": [
    "# Useful SFrame summary functions"
   ]
  },
  {
   "cell_type": "markdown",
   "metadata": {},
   "source": [
    "In order to make use of the closed form solution as well as take advantage of graphlab's built in functions we will review some important ones. In particular:\n",
    "* Computing the sum of an SArray\n",
    "* Computing the arithmetic average (mean) of an SArray\n",
    "* multiplying SArrays by constants\n",
    "* multiplying SArrays by other SArrays"
   ]
  },
  {
   "cell_type": "code",
   "execution_count": 5,
   "metadata": {
    "collapsed": false
   },
   "outputs": [
    {
     "name": "stdout",
     "output_type": "stream",
     "text": [
      "average price via method 1: 540088.141905\n",
      "average price via method 2: 540088.141905\n"
     ]
    }
   ],
   "source": [
    "# Let's compute the mean of the House Prices in King County in 2 different ways.\n",
    "prices = sales['price'] # extract the price column of the sales SFrame -- this is now an SArray\n",
    "\n",
    "# recall that the arithmetic average (the mean) is the sum of the prices divided by the total number of houses:\n",
    "sum_prices = prices.sum()\n",
    "num_houses = prices.size() # when prices is an SArray .size() returns its length\n",
    "avg_price_1 = sum_prices/num_houses\n",
    "avg_price_2 = prices.mean() # if you just want the average, the .mean() function\n",
    "print \"average price via method 1: \" + str(avg_price_1)\n",
    "print \"average price via method 2: \" + str(avg_price_2)"
   ]
  },
  {
   "cell_type": "markdown",
   "metadata": {},
   "source": [
    "As we see we get the same answer both ways"
   ]
  },
  {
   "cell_type": "code",
   "execution_count": 7,
   "metadata": {
    "collapsed": false
   },
   "outputs": [
    {
     "name": "stdout",
     "output_type": "stream",
     "text": [
      "the sum of price squared is: 9.21732513355e+15\n",
      "9.21732513355e+15\n"
     ]
    }
   ],
   "source": [
    "# if we want to multiply every price by 0.5 it's a simple as:\n",
    "half_prices = 0.5*prices\n",
    "# Let's compute the sum of squares of price. We can multiply two SArrays of the same length elementwise also with *\n",
    "prices_squared = prices*prices\n",
    "sum_prices_squared = prices_squared.sum() # price_squared is an SArray of the squares and we want to add them up.\n",
    "print \"the sum of price squared is: \" + str(sum_prices_squared)\n",
    "print sum_prices_squared"
   ]
  },
  {
   "cell_type": "markdown",
   "metadata": {},
   "source": [
    "Aside: The python notation x.xxe+yy means x.xx \\* 10^(yy). e.g 100 = 10^2 = 1*10^2 = 1e2 "
   ]
  },
  {
   "cell_type": "markdown",
   "metadata": {},
   "source": [
    "# Build a generic simple linear regression function "
   ]
  },
  {
   "cell_type": "markdown",
   "metadata": {},
   "source": [
    "Armed with these SArray functions we can use the closed form solution found from lecture to compute the slope and intercept for a simple linear regression on observations stored as SArrays: input_feature, output.\n",
    "\n",
    "Complete the following function (or write your own) to compute the simple linear regression slope and intercept:"
   ]
  },
  {
   "cell_type": "code",
   "execution_count": 9,
   "metadata": {
    "collapsed": false
   },
   "outputs": [],
   "source": [
    "def simple_linear_regression(input_feature, output):\n",
    "    n = len(input_feature)\n",
    "    # compute the sum of input_feature and output\n",
    "    sum_input = input_feature.sum()\n",
    "    sum_output = output.sum()\n",
    "    \n",
    "    # compute the product of the output and the input_feature and its sum\n",
    "    sum_input_output = (input_feature*output).sum()\n",
    "    # compute the squared value of the input_feature and its sum\n",
    "    sum_squr_input = (input_feature*input_feature).sum()\n",
    "    # use the formula for the slope\n",
    "    slope = (sum_input_output-sum_input*sum_output/n)/(sum_squr_input-sum_input*sum_input/n)\n",
    "    # use the formula for the intercept\n",
    "    intercept = (sum_output-slope*sum_input)/n\n",
    "    return (intercept, slope)"
   ]
  },
  {
   "cell_type": "markdown",
   "metadata": {},
   "source": [
    "We can test that our function works by passing it something where we know the answer. In particular we can generate a feature and then put the output exactly on a line: output = 1 + 1\\*input_feature then we know both our slope and intercept should be 1"
   ]
  },
  {
   "cell_type": "code",
   "execution_count": 22,
   "metadata": {
    "collapsed": false,
    "scrolled": true
   },
   "outputs": [
    {
     "name": "stdout",
     "output_type": "stream",
     "text": [
      "Intercept: 1\n",
      "Slope: 1\n"
     ]
    }
   ],
   "source": [
    "test_feature = graphlab.SArray(range(5))\n",
    "test_output = graphlab.SArray(1 + 1*test_feature)\n",
    "(test_intercept, test_slope) =  simple_linear_regression(test_feature, test_output)\n",
    "print \"Intercept: \" + str(test_intercept)\n",
    "print \"Slope: \" + str(test_slope)"
   ]
  },
  {
   "cell_type": "markdown",
   "metadata": {},
   "source": [
    "Now that we know it works let's build a regression model for predicting price based on sqft_living. Rembember that we train on train_data!"
   ]
  },
  {
   "cell_type": "code",
   "execution_count": 12,
   "metadata": {
    "collapsed": false
   },
   "outputs": [
    {
     "name": "stdout",
     "output_type": "stream",
     "text": [
      "Intercept: -47116.0765749\n",
      "Slope: 281.958838568\n"
     ]
    }
   ],
   "source": [
    "sqft_intercept, sqft_slope = simple_linear_regression(train_data['sqft_living'], train_data['price'])\n",
    "\n",
    "print \"Intercept: \" + str(sqft_intercept)\n",
    "print \"Slope: \" + str(sqft_slope)"
   ]
  },
  {
   "cell_type": "markdown",
   "metadata": {},
   "source": [
    "# Predicting Values"
   ]
  },
  {
   "cell_type": "markdown",
   "metadata": {},
   "source": [
    "Now that we have the model parameters: intercept & slope we can make predictions. Using SArrays it's easy to multiply an SArray by a constant and add a constant value. Complete the following function to return the predicted output given the input_feature, slope and intercept:"
   ]
  },
  {
   "cell_type": "code",
   "execution_count": 13,
   "metadata": {
    "collapsed": false
   },
   "outputs": [],
   "source": [
    "def get_regression_predictions(input_feature, intercept, slope):\n",
    "    # calculate the predicted values:\n",
    "    predicted_values = input_feature*slope+intercept\n",
    "    return predicted_values"
   ]
  },
  {
   "cell_type": "markdown",
   "metadata": {},
   "source": [
    "Now that we can calculate a prediction given the slope and intercept let's make a prediction. Use (or alter) the following to find out the estimated price for a house with 2650 squarefeet according to the squarefeet model we estiamted above.\n",
    "\n",
    "**Quiz Question: Using your Slope and Intercept from (4), What is the predicted price for a house with 2650 sqft?**"
   ]
  },
  {
   "cell_type": "code",
   "execution_count": 15,
   "metadata": {
    "collapsed": false
   },
   "outputs": [
    {
     "name": "stdout",
     "output_type": "stream",
     "text": [
      "The estimated price for a house with 2650 squarefeet is $700074.85\n"
     ]
    }
   ],
   "source": [
    "my_house_sqft = 2650\n",
    "estimated_price = get_regression_predictions(my_house_sqft, sqft_intercept, sqft_slope)\n",
    "print \"The estimated price for a house with %d squarefeet is $%.2f\" % (my_house_sqft, estimated_price)"
   ]
  },
  {
   "cell_type": "markdown",
   "metadata": {},
   "source": [
    "# Residual Sum of Squares"
   ]
  },
  {
   "cell_type": "markdown",
   "metadata": {},
   "source": [
    "Now that we have a model and can make predictions let's evaluate our model using Residual Sum of Squares (RSS). Recall that RSS is the sum of the squares of the residuals and the residuals is just a fancy word for the difference between the predicted output and the true output. \n",
    "\n",
    "Complete the following (or write your own) function to compute the RSS of a simple linear regression model given the input_feature, output, intercept and slope:"
   ]
  },
  {
   "cell_type": "code",
   "execution_count": 26,
   "metadata": {
    "collapsed": true
   },
   "outputs": [],
   "source": [
    "import numpy as np\n",
    "\n",
    "def get_residual_sum_of_squares(input_feature, output, intercept, slope):\n",
    "    # First get the predictions\n",
    "    sq_predicted = np.square(input_feature*slope+intercept-output)\n",
    "    RSS = sq_predicted.sum()\n",
    "\n",
    "    # then compute the residuals (since we are squaring it doesn't matter which order you subtract)\n",
    "\n",
    "    # square the residuals and add them up\n",
    "\n",
    "    return(RSS)"
   ]
  },
  {
   "cell_type": "markdown",
   "metadata": {},
   "source": [
    "Let's test our get_residual_sum_of_squares function by applying it to the test model where the data lie exactly on a line. Since they lie exactly on a line the residual sum of squares should be zero!"
   ]
  },
  {
   "cell_type": "code",
   "execution_count": 27,
   "metadata": {
    "collapsed": false
   },
   "outputs": [
    {
     "name": "stdout",
     "output_type": "stream",
     "text": [
      "0\n"
     ]
    }
   ],
   "source": [
    "print get_residual_sum_of_squares(test_feature, test_output, test_intercept, test_slope) # should be 0.0"
   ]
  },
  {
   "cell_type": "markdown",
   "metadata": {},
   "source": [
    "Now use your function to calculate the RSS on training data from the squarefeet model calculated above.\n",
    "\n",
    "**Quiz Question: According to this function and the slope and intercept from the squarefeet model What is the RSS for the simple linear regression using squarefeet to predict prices on TRAINING data?**"
   ]
  },
  {
   "cell_type": "code",
   "execution_count": 28,
   "metadata": {
    "collapsed": false
   },
   "outputs": [
    {
     "name": "stdout",
     "output_type": "stream",
     "text": [
      "The RSS of predicting Prices based on Square Feet is : 1.20191835632e+15\n"
     ]
    }
   ],
   "source": [
    "rss_prices_on_sqft = get_residual_sum_of_squares(train_data['sqft_living'], train_data['price'], sqft_intercept, sqft_slope)\n",
    "print 'The RSS of predicting Prices based on Square Feet is : ' + str(rss_prices_on_sqft)"
   ]
  },
  {
   "cell_type": "code",
   "execution_count": 36,
   "metadata": {
    "collapsed": false
   },
   "outputs": [
    {
     "data": {
      "application/javascript": [
       "$(\"head\").append($(\"<link/>\").attr({\n",
       "  rel:  \"stylesheet\",\n",
       "  type: \"text/css\",\n",
       "  href: \"//cdnjs.cloudflare.com/ajax/libs/font-awesome/4.1.0/css/font-awesome.min.css\"\n",
       "}));\n",
       "$(\"head\").append($(\"<link/>\").attr({\n",
       "  rel:  \"stylesheet\",\n",
       "  type: \"text/css\",\n",
       "  href: \"https://static.turi.com/products/graphlab-create/2.1/canvas/css/canvas.css\"\n",
       "}));\n",
       "\n",
       "            (function(){\n",
       "\n",
       "                var e = null;\n",
       "                if (typeof element == 'undefined') {\n",
       "                    var scripts = document.getElementsByTagName('script');\n",
       "                    var thisScriptTag = scripts[scripts.length-1];\n",
       "                    var parentDiv = thisScriptTag.parentNode;\n",
       "                    e = document.createElement('div');\n",
       "                    parentDiv.appendChild(e);\n",
       "                } else {\n",
       "                    e = element[0];\n",
       "                }\n",
       "\n",
       "                if (typeof requirejs !== 'undefined') {\n",
       "                    // disable load timeout; ipython_app.js is large and can take a while to load.\n",
       "                    requirejs.config({waitSeconds: 0});\n",
       "                }\n",
       "\n",
       "                require(['https://static.turi.com/products/graphlab-create/2.1/canvas/js/ipython_app.js'], function(IPythonApp){\n",
       "                    var app = new IPythonApp();\n",
       "                    app.attachView('sframe','Plots', {\"selected_variable\": {\"name\": [\"sales\"], \"descriptives\": {\"rows\": 21613, \"columns\": 21}, \"view_component\": \"Plots\", \"view_file\": \"sframe\", \"view_params\": {\"y\": \"price\", \"x\": \"sqft_living\", \"columns\": [\"id\", \"date\", \"price\", \"bedrooms\", \"bathrooms\", \"sqft_living\", \"sqft_lot\", \"floors\", \"waterfront\", \"view\", \"condition\", \"grade\", \"sqft_above\", \"sqft_basement\", \"yr_built\", \"yr_renovated\", \"zipcode\", \"lat\", \"long\", \"sqft_living15\", \"sqft_lot15\"], \"view\": \"Scatter Plot\"}, \"view_components\": [\"Summary\", \"Table\", \"Bar Chart\", \"BoxWhisker Plot\", \"Line Chart\", \"Scatter Plot\", \"Heat Map\", \"Plots\"], \"type\": \"SFrame\", \"columns\": [{\"dtype\": \"str\", \"name\": \"id\"}, {\"dtype\": \"datetime\", \"name\": \"date\"}, {\"dtype\": \"float\", \"name\": \"price\"}, {\"dtype\": \"float\", \"name\": \"bedrooms\"}, {\"dtype\": \"float\", \"name\": \"bathrooms\"}, {\"dtype\": \"float\", \"name\": \"sqft_living\"}, {\"dtype\": \"int\", \"name\": \"sqft_lot\"}, {\"dtype\": \"str\", \"name\": \"floors\"}, {\"dtype\": \"int\", \"name\": \"waterfront\"}, {\"dtype\": \"int\", \"name\": \"view\"}, {\"dtype\": \"int\", \"name\": \"condition\"}, {\"dtype\": \"int\", \"name\": \"grade\"}, {\"dtype\": \"int\", \"name\": \"sqft_above\"}, {\"dtype\": \"int\", \"name\": \"sqft_basement\"}, {\"dtype\": \"int\", \"name\": \"yr_built\"}, {\"dtype\": \"int\", \"name\": \"yr_renovated\"}, {\"dtype\": \"str\", \"name\": \"zipcode\"}, {\"dtype\": \"float\", \"name\": \"lat\"}, {\"dtype\": \"float\", \"name\": \"long\"}, {\"dtype\": \"float\", \"name\": \"sqft_living15\"}, {\"dtype\": \"float\", \"name\": \"sqft_lot15\"}], \"column_identifiers\": [\"bathrooms\", \"sqft_living15\", \"sqft_above\", \"grade\", \"yr_built\", \"price\", \"bedrooms\", \"zipcode\", \"long\", \"id\", \"sqft_lot15\", \"sqft_living\", \"floors\", \"sqft_lot\", \"date\", \"waterfront\", \"sqft_basement\", \"yr_renovated\", \"lat\", \"condition\", \"view\"]}, \"complete\": 1, \"ipython\": true, \"progress\": 1.0, \"data\": [[1330.0, 440000.0], [1370.0, 315000.0], [3800.0, 730000.0], [1630.0, 725000.0], [2170.0, 745000.0], [1390.0, 186950.0], [980.0, 595000.0], [970.0, 205950.0], [2130.0, 335000.0], [2980.0, 1285000.0], [1480.0, 270000.0], [980.0, 499950.0], [2850.0, 1150000.0], [2710.0, 740000.0], [3020.0, 750000.0], [1970.0, 780000.0], [3860.0, 470000.0], [3240.0, 975000.0], [2230.0, 428000.0], [1260.0, 315000.0], [2410.0, 960000.0], [1810.0, 279000.0], [2190.0, 530000.0], [1900.0, 580000.0], [1690.0, 498000.0], [720.0, 195000.0], [1750.0, 585000.0], [2260.0, 925000.0], [2430.0, 645000.0], [2720.0, 975000.0], [1670.0, 550000.0], [1760.0, 444950.0], [880.0, 292000.0], [2620.0, 1360000.0], [1400.0, 340000.0], [4750.0, 770000.0], [1560.0, 590000.0], [1510.0, 622500.0], [1390.0, 302059.0], [1140.0, 160000.0], [2570.0, 625000.0], [1250.0, 275000.0], [610.0, 126000.0], [2660.0, 332100.0], [2700.0, 415000.0], [1980.0, 496752.0], [990.0, 210490.0], [1740.0, 539000.0], [3280.0, 645000.0], [2810.0, 575000.0], [1400.0, 474800.0], [1300.0, 208000.0], [3340.0, 699000.0], [2370.0, 600000.0], [2730.0, 920000.0], [2870.0, 525000.0], [2510.0, 510000.0], [1590.0, 609500.0], [2180.0, 334900.0], [840.0, 218450.0], [2150.0, 650000.0], [2170.0, 315000.0], [1280.0, 340000.0], [5850.0, 1700000.0], [1510.0, 190000.0], [1720.0, 220000.0], [2810.0, 1565000.0], [1850.0, 540000.0], [2990.0, 375000.0], [2620.0, 525000.0], [1050.0, 521000.0], [1400.0, 430000.0], [4420.0, 730000.0], [2220.0, 515000.0], [1670.0, 660000.0], [2510.0, 475000.0], [2020.0, 535000.0], [2110.0, 355000.0], [2410.0, 537000.0], [2030.0, 430000.0], [1320.0, 342000.0], [1510.0, 515000.0], [2050.0, 370228.0], [4330.0, 722800.0], [1700.0, 255000.0], [1260.0, 630000.0], [2300.0, 525000.0], [1510.0, 350000.0], [890.0, 682000.0], [1400.0, 246000.0], [2090.0, 300000.0], [1650.0, 495000.0], [1200.0, 153000.0], [1010.0, 450000.0], [820.0, 361280.0], [3770.0, 1450000.0], [1790.0, 390000.0], [1780.0, 540000.0], [2140.0, 350000.0], [1720.0, 420000.0], [2350.0, 895000.0], [2910.0, 595000.0], [3490.0, 320000.0], [2350.0, 700000.0], [840.0, 290000.0], [2220.0, 410000.0], [3320.0, 675000.0], [1960.0, 395000.0], [2820.0, 1450000.0], [1850.0, 278000.0], [2010.0, 627800.0], [1240.0, 379900.0], [1630.0, 499990.0], [1690.0, 622000.0], [4740.0, 1349000.0], [1660.0, 412500.0], [1060.0, 826000.0], [2160.0, 1190000.0], [2260.0, 419950.0], [2370.0, 388598.0], [1600.0, 340000.0], [1020.0, 489000.0], [3110.0, 435000.0], [1830.0, 378500.0], [2870.0, 480000.0], [1180.0, 313000.0], [1300.0, 462000.0], [3300.0, 789888.0], [1420.0, 335000.0], [1680.0, 290500.0], [1380.0, 335000.0], [1220.0, 250000.0], [1820.0, 790000.0], [840.0, 361500.0], [1890.0, 325000.0], [2620.0, 746000.0], [2190.0, 563500.0], [3050.0, 840000.0], [1650.0, 350000.0], [1170.0, 519950.0], [1110.0, 665000.0], [1940.0, 728000.0], [2245.0, 362865.0], [1210.0, 439950.0], [1010.0, 501000.0], [660.0, 100000.0], [4930.0, 1700000.0], [2130.0, 310000.0], [2970.0, 745000.0], [1270.0, 254000.0], [2990.0, 800000.0], [4610.0, 1200000.0], [940.0, 358000.0], [3920.0, 1605000.0], [4320.0, 565000.0], [3700.0, 722500.0], [1690.0, 540000.0], [1410.0, 429000.0], [1270.0, 247000.0], [1710.0, 590000.0], [2760.0, 734200.0], [2170.0, 400000.0], [1000.0, 115000.0], [1650.0, 379880.0], [2130.0, 311100.0], [2600.0, 540000.0], [1380.0, 275000.0], [3200.0, 851500.0], [1830.0, 439000.0], [1780.0, 475000.0], [3750.0, 725000.0], [4020.0, 1950000.0], [2870.0, 465000.0], [1480.0, 656000.0], [1230.0, 522000.0], [770.0, 259950.0], [1970.0, 399950.0], [850.0, 360000.0], [1320.0, 420200.0], [2720.0, 594950.0], [1300.0, 390000.0], [1880.0, 405000.0], [2550.0, 415000.0], [1470.0, 270000.0], [2660.0, 545000.0], [2090.0, 693000.0], [1650.0, 622000.0], [1650.0, 443000.0], [1970.0, 580000.0], [1380.0, 299500.0], [2260.0, 275000.0], [1210.0, 335000.0], [3550.0, 450000.0], [2730.0, 345000.0], [1530.0, 450000.0], [970.0, 242000.0], [2400.0, 338000.0], [3170.0, 1695000.0], [2090.0, 550000.0], [4270.0, 975000.0], [2820.0, 675000.0], [2300.0, 431000.0], [1120.0, 520000.0], [2530.0, 435000.0], [2030.0, 544000.0], [2770.0, 910000.0], [2440.0, 677900.0], [1540.0, 462500.0], [1240.0, 345000.0], [1620.0, 395000.0], [1810.0, 384205.0], [3430.0, 740000.0], [2240.0, 592500.0], [2180.0, 555000.0], [1840.0, 620000.0], [1220.0, 935000.0], [2740.0, 1039000.0], [2250.0, 445838.0], [2510.0, 706000.0], [2540.0, 630000.0], [1750.0, 330000.0], [2100.0, 999999.0], [3000.0, 515000.0], [1300.0, 275000.0], [1300.0, 819000.0], [1750.0, 368000.0], [1480.0, 234000.0], [1522.0, 407500.0], [4220.0, 1635000.0], [1620.0, 333000.0], [1550.0, 325000.0], [910.0, 412000.0], [2620.0, 597500.0], [2440.0, 484000.0], [1690.0, 336900.0], [1870.0, 340000.0], [2760.0, 821000.0], [4340.0, 419000.0], [2830.0, 614000.0], [1200.0, 190000.0], [2000.0, 700000.0], [1200.0, 480000.0], [2380.0, 574000.0], [2310.0, 627000.0], [970.0, 215000.0], [2740.0, 363000.0], [3370.0, 2300000.0], [760.0, 352000.0], [800.0, 330000.0], [1600.0, 383900.0], [760.0, 344000.0], [3360.0, 455000.0], [1720.0, 667000.0], [1310.0, 337000.0], [3650.0, 861111.0], [1510.0, 335000.0], [1640.0, 308000.0], [530.0, 238000.0], [1230.0, 320000.0], [3070.0, 1195000.0], [1850.0, 827000.0], [2300.0, 320000.0], [2590.0, 540000.0], [1940.0, 725000.0], [3010.0, 695000.0], [1060.0, 435000.0], [2680.0, 575000.0], [1450.0, 375000.0], [2280.0, 752500.0], [1720.0, 622200.0], [2060.0, 647500.0], [3720.0, 760000.0], [1700.0, 210000.0], [1440.0, 287450.0], [1510.0, 420250.0], [2653.0, 365000.0], [3870.0, 589900.0], [880.0, 255000.0], [2130.0, 395000.0], [1410.0, 625000.0], [860.0, 350000.0], [780.0, 220000.0], [1140.0, 540000.0], [1470.0, 415000.0], [2000.0, 320000.0], [2720.0, 370000.0], [1410.0, 307000.0], [1510.0, 535000.0], [4720.0, 745000.0], [2130.0, 530000.0], [2440.0, 1325000.0], [4160.0, 1699000.0], [2160.0, 360000.0], [3610.0, 950000.0], [2130.0, 649990.0], [2010.0, 575000.0], [2580.0, 358000.0], [3920.0, 3100000.0], [1320.0, 209000.0], [1240.0, 374950.0], [1340.0, 397000.0], [800.0, 175000.0], [1320.0, 345000.0], [1850.0, 476100.0], [2760.0, 500000.0], [2440.0, 330000.0], [1850.0, 450000.0], [1050.0, 400000.0], [2980.0, 350000.0], [1930.0, 310000.0], [1610.0, 269950.0], [2140.0, 620000.0], [1260.0, 437500.0], [1360.0, 466950.0], [3570.0, 840000.0], [2080.0, 285000.0], [830.0, 282613.0], [1160.0, 450000.0], [1950.0, 274000.0], [2030.0, 595000.0], [3230.0, 815000.0], [1010.0, 350000.0], [2030.0, 253779.0], [3230.0, 409000.0], [930.0, 420000.0], [2180.0, 825000.0], [1010.0, 201000.0], [3910.0, 1562000.0], [1610.0, 269000.0], [1290.0, 489000.0], [1150.0, 203000.0], [1240.0, 277700.0], [1590.0, 247200.0], [1730.0, 300000.0], [3420.0, 692500.0], [1010.0, 385000.0], [2350.0, 426950.0], [1510.0, 791500.0], [1230.0, 229500.0], [1430.0, 330000.0], [1500.0, 284000.0], [3520.0, 905000.0], [1320.0, 313000.0], [2130.0, 707000.0], [3380.0, 569950.0], [1000.0, 165000.0], [1000.0, 239900.0], [1260.0, 451000.0], [1960.0, 560000.0], [1890.0, 282000.0], [3560.0, 486000.0], [980.0, 435000.0], [2820.0, 635000.0], [2250.0, 349950.0], [1840.0, 268000.0], [2460.0, 931000.0], [2460.0, 990000.0], [3420.0, 548000.0], [3000.0, 2400000.0], [2520.0, 600000.0], [3370.0, 405000.0], [1910.0, 498688.0], [1340.0, 485500.0], [2400.0, 562000.0], [2900.0, 675000.0], [910.0, 155000.0], [1440.0, 199000.0], [2420.0, 750000.0], [2420.0, 597400.0], [2090.0, 338000.0], [3730.0, 649500.0], [3440.0, 430000.0], [1680.0, 640000.0], [3530.0, 1500000.0], [1240.0, 405000.0], [4060.0, 1300000.0], [2280.0, 515000.0], [1350.0, 455000.0], [2570.0, 675000.0], [3540.0, 550000.0], [1010.0, 345000.0], [1000.0, 335000.0], [1750.0, 575000.0], [1490.0, 271500.0], [1140.0, 407000.0], [3820.0, 1274950.0], [1460.0, 629000.0], [1280.0, 350000.0], [1290.0, 163000.0], [970.0, 345000.0], [2350.0, 469995.0], [1980.0, 490000.0], [2610.0, 1517000.0], [3200.0, 618000.0], [3000.0, 1688000.0], [2320.0, 934550.0], [2910.0, 780000.0], [2820.0, 650000.0], [1890.0, 300000.0], [1030.0, 229000.0], [1810.0, 799000.0], [2370.0, 1057000.0], [1780.0, 250000.0], [3180.0, 708000.0], [1210.0, 299900.0], [1560.0, 525000.0], [1910.0, 1125000.0], [2450.0, 952000.0], [4600.0, 805000.0], [1310.0, 216000.0], [1980.0, 268000.0], [1240.0, 543000.0], [1930.0, 326000.0], [1310.0, 470000.0], [1110.0, 413252.0], [1230.0, 607000.0], [1430.0, 349000.0], [2800.0, 515000.0], [1130.0, 411000.0], [1700.0, 245000.0], [3780.0, 930000.0], [2620.0, 475000.0], [1700.0, 419000.0], [1560.0, 324950.0], [940.0, 375000.0], [1320.0, 475000.0], [1720.0, 206325.0], [3150.0, 815000.0], [1830.0, 638000.0], [1970.0, 294700.0], [2500.0, 740000.0], [3540.0, 775000.0], [1420.0, 510000.0], [1500.0, 736000.0], [1750.0, 232603.0], [2000.0, 324360.0], [3240.0, 1234582.0], [1460.0, 580000.0], [2280.0, 577500.0], [2360.0, 615000.0], [1260.0, 300000.0], [3831.0, 2700000.0], [5840.0, 2200000.0], [2060.0, 269950.0], [1380.0, 329900.0], [1380.0, 365000.0], [3180.0, 725000.0], [2070.0, 662500.0], [1630.0, 339950.0], [1320.0, 327000.0], [1400.0, 267500.0], [1990.0, 264950.0], [2370.0, 1000000.0], [2360.0, 691100.0], [2223.0, 320000.0], [1220.0, 215500.0], [1220.0, 470000.0], [1500.0, 215000.0], [1050.0, 473000.0], [1360.0, 328000.0], [2910.0, 550000.0], [1740.0, 364500.0], [1600.0, 502000.0], [2390.0, 359500.0], [2910.0, 610000.0], [1690.0, 519990.0], [5220.0, 1481000.0], [1900.0, 504975.0], [1110.0, 625000.0], [1810.0, 342500.0], [1650.0, 267500.0], [1930.0, 700000.0], [3450.0, 755000.0], [2520.0, 420000.0], [3090.0, 384900.0], [960.0, 379500.0], [2432.0, 427000.0], [1960.0, 860000.0], [1400.0, 450000.0], [1500.0, 392000.0], [3720.0, 1275000.0], [1200.0, 339900.0], [3240.0, 870000.0], [2290.0, 585000.0], [1430.0, 429000.0], [2230.0, 334950.0], [470.0, 156000.0], [1840.0, 521000.0], [2620.0, 525000.0], [3720.0, 980000.0], [3500.0, 788600.0], [840.0, 450600.0], [1510.0, 420000.0], [2460.0, 305000.0], [2600.0, 610000.0], [2160.0, 277000.0], [1190.0, 203000.0], [2029.0, 384435.0], [1290.0, 237000.0], [2300.0, 294000.0], [2230.0, 305000.0], [1140.0, 517000.0], [1520.0, 495000.0], [2770.0, 1197354.0], [2100.0, 370000.0], [2370.0, 684680.0], [1330.0, 348000.0], [750.0, 355000.0], [1890.0, 445000.0], [1300.0, 247500.0], [1770.0, 373000.0], [1210.0, 299950.0], [1220.0, 280000.0], [2420.0, 760000.0], [820.0, 370000.0], [2570.0, 625000.0], [1240.0, 275000.0], [2100.0, 625000.0], [4760.0, 2250000.0], [3230.0, 699000.0], [1760.0, 620047.0], [2610.0, 1300000.0], [2490.0, 704000.0], [2210.0, 250000.0], [1250.0, 418000.0], [1910.0, 835000.0], [2360.0, 355500.0], [1640.0, 645000.0], [1270.0, 512000.0], [1650.0, 371500.0], [1782.0, 326000.0], [1270.0, 343000.0], [2160.0, 355000.0], [1540.0, 279000.0], [1690.0, 385000.0], [1560.0, 579000.0], [2060.0, 459500.0], [2280.0, 560000.0], [3450.0, 1035000.0], [2080.0, 286950.0], [2810.0, 301000.0], [1820.0, 875000.0], [2260.0, 350000.0], [1210.0, 230000.0], [1310.0, 300000.0], [680.0, 365000.0], [2540.0, 475000.0], [1500.0, 215000.0], [2420.0, 820000.0], [4690.0, 2048000.0], [1840.0, 525000.0], [2580.0, 899000.0], [1180.0, 472000.0], [1370.0, 375000.0], [1520.0, 360000.0], [2380.0, 855000.0], [2340.0, 645000.0], [2100.0, 530000.0], [2230.0, 340000.0], [2920.0, 830000.0], [2230.0, 460000.0], [1690.0, 550000.0], [2550.0, 490000.0], [710.0, 399950.0], [2180.0, 545000.0], [1930.0, 690000.0], [3320.0, 1025000.0], [1860.0, 265500.0], [1180.0, 610000.0], [1730.0, 670000.0], [2070.0, 337500.0], [1640.0, 700000.0], [1600.0, 435000.0], [2220.0, 800000.0], [870.0, 271310.0], [1300.0, 412250.0], [2605.0, 789800.0], [2470.0, 735000.0], [980.0, 415000.0], [1490.0, 510000.0], [1670.0, 680000.0], [2163.0, 255000.0], [520.0, 310000.0], [1860.0, 350000.0], [2380.0, 699900.0], [2120.0, 637000.0], [3790.0, 1865000.0], [3180.0, 900000.0], [1480.0, 369300.0], [1800.0, 270000.0], [990.0, 335000.0], [820.0, 219500.0], [2230.0, 398750.0], [1550.0, 537000.0], [1070.0, 249000.0], [840.0, 199990.0], [3400.0, 799000.0], [1610.0, 280000.0], [1260.0, 374000.0], [2200.0, 315000.0], [1570.0, 419000.0], [780.0, 464050.0], [1470.0, 338000.0], [720.0, 280000.0], [1870.0, 314000.0], [2240.0, 600000.0], [2270.0, 526750.0], [960.0, 193000.0], [1320.0, 580000.0], [3100.0, 590000.0], [1100.0, 184000.0], [1610.0, 540000.0], [1930.0, 533600.0], [2350.0, 430000.0], [940.0, 185900.0], [2600.0, 430000.0], [3150.0, 935000.0], [2490.0, 550000.0], [1880.0, 380000.0], [2730.0, 649000.0], [3400.0, 970000.0], [1630.0, 385000.0], [2500.0, 806000.0], [3170.0, 820000.0], [1720.0, 500000.0], [880.0, 241000.0], [3500.0, 592500.0], [3830.0, 599999.0], [1780.0, 349950.0], [1320.0, 510000.0], [680.0, 179900.0], [2260.0, 675000.0], [2240.0, 335500.0], [2660.0, 765000.0], [1810.0, 517500.0], [2070.0, 348000.0], [2120.0, 575000.0], [1690.0, 372977.0], [2060.0, 200000.0], [1560.0, 239950.0], [2060.0, 558000.0], [1890.0, 270000.0], [1560.0, 250000.0], [2220.0, 785000.0], [2780.0, 675000.0], [1510.0, 442500.0], [3700.0, 1250000.0], [1380.0, 350000.0], [2460.0, 485000.0], [1330.0, 553000.0], [2290.0, 455500.0], [2930.0, 422000.0], [2720.0, 299900.0], [4740.0, 1200000.0], [3510.0, 695000.0], [2600.0, 600000.0], [1540.0, 499000.0], [3980.0, 760000.0], [1280.0, 215000.0], [1090.0, 158000.0], [2630.0, 385000.0], [2450.0, 399950.0], [2990.0, 600000.0], [2000.0, 536500.0], [2540.0, 845000.0], [3030.0, 321000.0], [1570.0, 720000.0], [3880.0, 762300.0], [790.0, 250275.0], [3220.0, 890000.0], [2940.0, 795000.0], [1500.0, 525000.0], [2260.0, 379000.0], [1940.0, 315000.0], [5635.0, 950000.0], [2510.0, 825000.0], [3880.0, 815000.0], [3840.0, 556000.0], [2690.0, 1298888.0], [2060.0, 269000.0], [1330.0, 787000.0], [1769.0, 334888.0], [1920.0, 230000.0], [1122.0, 185000.0], [3560.0, 770000.0], [1270.0, 390000.0], [1490.0, 207000.0], [2860.0, 530000.0], [1860.0, 384950.0], [2990.0, 659950.0], [1180.0, 194000.0], [2700.0, 480000.0], [1370.0, 325000.0], [800.0, 410000.0], [2190.0, 194250.0], [1960.0, 442000.0], [2050.0, 360000.0], [3800.0, 950000.0], [980.0, 463800.0], [1930.0, 245000.0], [800.0, 404500.0], [710.0, 153000.0], [2480.0, 729000.0], [1860.0, 267500.0], [1670.0, 505000.0], [2980.0, 515000.0], [1870.0, 594000.0], [2650.0, 435000.0], [1650.0, 334999.0], [1130.0, 411500.0], [1860.0, 570000.0], [1940.0, 390000.0], [1540.0, 376000.0], [1730.0, 297262.0], [2340.0, 396000.0], [4800.0, 1975000.0], [2690.0, 390000.0], [2870.0, 475000.0], [1830.0, 270000.0], [1220.0, 287500.0], [1590.0, 263000.0], [960.0, 565000.0], [1760.0, 281000.0], [1220.0, 257000.0], [1910.0, 390000.0], [2120.0, 340000.0], [2520.0, 605000.0], [2860.0, 411000.0], [1280.0, 364000.0], [2680.0, 499000.0], [3010.0, 848000.0], [2310.0, 527500.0], [1440.0, 323000.0], [2520.0, 372000.0], [2080.0, 550000.0], [2690.0, 279000.0], [1560.0, 288000.0], [1000.0, 329950.0], [3400.0, 1300000.0], [2610.0, 372000.0], [1770.0, 200000.0], [1550.0, 453000.0], [1320.0, 370000.0], [1280.0, 370000.0], [1384.0, 273000.0], [1050.0, 205000.0], [2010.0, 650000.0], [2594.0, 351000.0], [3220.0, 640000.0], [3100.0, 540000.0], [1690.0, 475000.0], [1900.0, 420000.0], [3170.0, 890776.0], [2030.0, 304500.0], [1340.0, 255000.0], [2660.0, 310000.0], [2330.0, 780000.0], [2900.0, 865000.0], [1780.0, 580000.0], [3530.0, 1400000.0], [1520.0, 460000.0], [1580.0, 320000.0], [990.0, 250000.0], [1760.0, 229000.0], [1380.0, 462000.0], [1650.0, 292000.0], [1450.0, 277000.0], [2780.0, 560000.0], [3290.0, 1385000.0], [1480.0, 336500.0], [2220.0, 334990.0], [1200.0, 173000.0], [2250.0, 605000.0], [2170.0, 551000.0], [1220.0, 286308.0], [3600.0, 660000.0], [1430.0, 522500.0], [1980.0, 500000.0], [1250.0, 345000.0], [1580.0, 265000.0], [1900.0, 255000.0], [1490.0, 300000.0], [2510.0, 685000.0], [1600.0, 355000.0], [1610.0, 180000.0], [2140.0, 550000.0], [3000.0, 355000.0], [3250.0, 1050000.0], [2040.0, 210500.0], [1420.0, 349950.0], [1710.0, 515000.0], [1770.0, 600000.0], [1140.0, 234300.0], [910.0, 100000.0], [1810.0, 272000.0], [2290.0, 436500.0], [3200.0, 737500.0], [2730.0, 510000.0], [1656.0, 462500.0], [1300.0, 315500.0], [2200.0, 547000.0], [2620.0, 408000.0], [1830.0, 383000.0], [2140.0, 571000.0], [1800.0, 160000.0], [1540.0, 433500.0], [1160.0, 208000.0], [2640.0, 1398000.0], [2400.0, 442500.0], [2460.0, 427500.0], [2390.0, 915000.0], [3570.0, 895000.0], [3080.0, 569999.0], [2130.0, 1065000.0], [1350.0, 345000.0], [1620.0, 481000.0], [2090.0, 566000.0], [3810.0, 1575000.0], [2340.0, 730000.0], [2350.0, 754000.0], [2460.0, 600000.0], [1400.0, 185000.0], [2550.0, 799000.0], [2740.0, 657000.0], [1820.0, 488500.0], [3330.0, 760000.0], [1050.0, 400000.0], [1630.0, 357500.0], [1780.0, 318500.0], [1810.0, 615500.0], [1980.0, 725000.0], [1990.0, 245000.0], [1980.0, 700000.0], [1120.0, 442500.0], [1670.0, 424000.0], [960.0, 299000.0], [910.0, 223000.0], [1980.0, 287000.0], [830.0, 135000.0], [4210.0, 937500.0], [3732.0, 1225000.0], [2580.0, 326000.0], [1530.0, 595000.0], [2390.0, 330000.0], [3950.0, 1270000.0], [1580.0, 254999.0], [2310.0, 600000.0], [710.0, 264000.0], [2300.0, 683000.0], [1710.0, 450000.0], [2360.0, 730000.0], [1040.0, 382500.0], [1990.0, 345000.0], [1790.0, 260000.0], [1290.0, 220000.0], [1410.0, 415000.0], [720.0, 248500.0], [2980.0, 450000.0], [2080.0, 254000.0], [2210.0, 733000.0], [2900.0, 1580000.0], [1000.0, 264950.0], [1410.0, 350000.0], [2370.0, 957000.0], [950.0, 325000.0], [3520.0, 775000.0], [3620.0, 825000.0], [1280.0, 525000.0], [2150.0, 411000.0], [960.0, 420850.0], [1830.0, 642450.0], [2260.0, 600000.0], [1460.0, 700000.0], [4070.0, 1700000.0], [1660.0, 410000.0], [3064.0, 1095000.0], [1460.0, 299950.0], [1360.0, 335000.0], [3470.0, 2150000.0], [2830.0, 627250.0], [3080.0, 637000.0], [1560.0, 382500.0], [1810.0, 400000.0], [1460.0, 625000.0], [1990.0, 438000.0], [1490.0, 245000.0], [1300.0, 750000.0], [2750.0, 510000.0], [1120.0, 335900.0], [1960.0, 474000.0], [1970.0, 385000.0], [1440.0, 162000.0], [1210.0, 500000.0], [2480.0, 920000.0], [1230.0, 209000.0], [1180.0, 347500.0], [1480.0, 276200.0], [1790.0, 414000.0], [940.0, 362500.0], [1950.0, 235000.0], [2220.0, 1101000.0], [2720.0, 368000.0], [2080.0, 450000.0], [2000.0, 620000.0], [2040.0, 675000.0], [2200.0, 410000.0], [5370.0, 790000.0], [2870.0, 665900.0], [1960.0, 410000.0], [3110.0, 700000.0], [1040.0, 418000.0], [1580.0, 247000.0], [890.0, 371000.0], [1740.0, 435000.0], [2180.0, 275000.0], [5820.0, 784500.0], [2480.0, 717000.0], [5860.0, 1157200.0], [2430.0, 585000.0], [1500.0, 235000.0], [2220.0, 652500.0], [1660.0, 342000.0], [3440.0, 905000.0], [1410.0, 400000.0], [2120.0, 599000.0], [1620.0, 395000.0], [1130.0, 485000.0], [2340.0, 487600.0], [2910.0, 549000.0], [2030.0, 485000.0], [1650.0, 225000.0], [1550.0, 313000.0], [2370.0, 800000.0], [2210.0, 382500.0], [930.0, 269500.0], [2200.0, 345000.0], [1010.0, 636100.0], [3830.0, 1250000.0], [2020.0, 253000.0], [1710.0, 340000.0], [1620.0, 280500.0], [1400.0, 194000.0], [1280.0, 539000.0], [2920.0, 1650000.0], [2480.0, 1387800.0], [1360.0, 450000.0], [1570.0, 550000.0], [2980.0, 1058800.0], [1900.0, 270000.0], [2370.0, 499950.0], [1500.0, 475500.0], [2605.0, 599900.0], [950.0, 490000.0], [1810.0, 507000.0], [3400.0, 951000.0], [1650.0, 559500.0], [2950.0, 1065500.0], [2230.0, 440000.0], [1350.0, 345500.0], [2080.0, 969500.0], [2290.0, 365000.0], [1430.0, 255000.0], [1900.0, 550000.0], [1200.0, 228950.0], [950.0, 230000.0], [2240.0, 676000.0], [1680.0, 334000.0], [1920.0, 320000.0], [1560.0, 440000.0], [1640.0, 221000.0], [1710.0, 158550.0], [3160.0, 805000.0], [1380.0, 408000.0], [3110.0, 1260000.0], [1190.0, 475000.0], [2620.0, 648000.0], [2220.0, 850000.0], [2310.0, 310000.0], [860.0, 219900.0], [2700.0, 314900.0], [1530.0, 199950.0], [1996.0, 285000.0], [2150.0, 470000.0], [3190.0, 832000.0], [5940.0, 1149000.0], [890.0, 328000.0], [2200.0, 525000.0], [2970.0, 320000.0], [2900.0, 339000.0], [2290.0, 440000.0], [2110.0, 483000.0], [1520.0, 260000.0], [1820.0, 275000.0], [2040.0, 500000.0], [4690.0, 1945000.0], [2130.0, 350000.0], [1820.0, 605000.0], [1730.0, 348000.0], [990.0, 208000.0], [1850.0, 289000.0]], \"columns\": [{\"dtype\": \"str\", \"name\": \"id\"}, {\"dtype\": \"datetime\", \"name\": \"date\"}, {\"dtype\": \"float\", \"name\": \"price\"}, {\"dtype\": \"float\", \"name\": \"bedrooms\"}, {\"dtype\": \"float\", \"name\": \"bathrooms\"}, {\"dtype\": \"float\", \"name\": \"sqft_living\"}, {\"dtype\": \"int\", \"name\": \"sqft_lot\"}, {\"dtype\": \"str\", \"name\": \"floors\"}, {\"dtype\": \"int\", \"name\": \"waterfront\"}, {\"dtype\": \"int\", \"name\": \"view\"}, {\"dtype\": \"int\", \"name\": \"condition\"}, {\"dtype\": \"int\", \"name\": \"grade\"}, {\"dtype\": \"int\", \"name\": \"sqft_above\"}, {\"dtype\": \"int\", \"name\": \"sqft_basement\"}, {\"dtype\": \"int\", \"name\": \"yr_built\"}, {\"dtype\": \"int\", \"name\": \"yr_renovated\"}, {\"dtype\": \"str\", \"name\": \"zipcode\"}, {\"dtype\": \"float\", \"name\": \"lat\"}, {\"dtype\": \"float\", \"name\": \"long\"}, {\"dtype\": \"float\", \"name\": \"sqft_living15\"}, {\"dtype\": \"float\", \"name\": \"sqft_lot15\"}]}, e);\n",
       "                });\n",
       "            })();\n",
       "        "
      ]
     },
     "metadata": {},
     "output_type": "display_data"
    },
    {
     "data": {
      "text/plain": [
       "[<matplotlib.lines.Line2D at 0x7f7728996210>,\n",
       " <matplotlib.lines.Line2D at 0x7f77289962d0>]"
      ]
     },
     "execution_count": 36,
     "metadata": {},
     "output_type": "execute_result"
    },
    {
     "data": {
      "image/png": "[encoded data removed]",
      "text/plain": [
       "<matplotlib.figure.Figure at 0x7f77288f8110>"
      ]
     },
     "metadata": {},
     "output_type": "display_data"
    }
   ],
   "source": [
    "graphlab.canvas.set_target('ipynb')\n",
    "sales.show(view = 'Scatter Plot',x='sqft_living',y='price')\n",
    "import matplotlib.pyplot as plt\n",
    "%matplotlib inline\n",
    "plt.plot(sales['sqft_living'],sales['price'],'.',\n",
    "        train_data['sqft_living'],get_regression_predictions(train_data['sqft_living'], sqft_intercept, sqft_slope),'-')"
   ]
  },
  {
   "cell_type": "markdown",
   "metadata": {},
   "source": [
    "# Predict the squarefeet given price"
   ]
  },
  {
   "cell_type": "markdown",
   "metadata": {},
   "source": [
    "What if we want to predict the squarefoot given the price? Since we have an equation y = a + b\\*x we can solve the function for x. So that if we have the intercept (a) and the slope (b) and the price (y) we can solve for the estimated squarefeet (x).\n",
    "\n",
    "Complete the following function to compute the inverse regression estimate, i.e. predict the input_feature given the output."
   ]
  },
  {
   "cell_type": "code",
   "execution_count": 39,
   "metadata": {
    "collapsed": true
   },
   "outputs": [],
   "source": [
    "def inverse_regression_predictions(output, intercept, slope):\n",
    "    # solve output = intercept + slope*input_feature for input_feature. Use this equation to compute the inverse predictions:\n",
    "    estimated_feature = (output-intercept)/slope\n",
    "    return estimated_feature"
   ]
  },
  {
   "cell_type": "markdown",
   "metadata": {},
   "source": [
    "Now that we have a function to compute the squarefeet given the price from our simple regression model let's see how big we might expect a house that costs $800,000 to be.\n",
    "\n",
    "**Quiz Question: According to this function and the regression slope and intercept from (3) what is the estimated square-feet for a house costing $800,000?**"
   ]
  },
  {
   "cell_type": "code",
   "execution_count": 40,
   "metadata": {
    "collapsed": false
   },
   "outputs": [
    {
     "name": "stdout",
     "output_type": "stream",
     "text": [
      "The estimated squarefeet for a house worth $800000.00 is 3004\n"
     ]
    }
   ],
   "source": [
    "my_house_price = 800000\n",
    "estimated_squarefeet = inverse_regression_predictions(my_house_price, sqft_intercept, sqft_slope)\n",
    "print \"The estimated squarefeet for a house worth $%.2f is %d\" % (my_house_price, estimated_squarefeet)"
   ]
  },
  {
   "cell_type": "markdown",
   "metadata": {},
   "source": [
    "# New Model: estimate prices from bedrooms"
   ]
  },
  {
   "cell_type": "markdown",
   "metadata": {},
   "source": [
    "We have made one model for predicting house prices using squarefeet, but there are many other features in the sales SFrame. \n",
    "Use your simple linear regression function to estimate the regression parameters from predicting Prices based on number of bedrooms. Use the training data!"
   ]
  },
  {
   "cell_type": "code",
   "execution_count": 42,
   "metadata": {
    "collapsed": false
   },
   "outputs": [
    {
     "name": "stdout",
     "output_type": "stream",
     "text": [
      "129802.357379 121716.126238\n"
     ]
    },
    {
     "data": {
      "application/javascript": [
       "$(\"head\").append($(\"<link/>\").attr({\n",
       "  rel:  \"stylesheet\",\n",
       "  type: \"text/css\",\n",
       "  href: \"//cdnjs.cloudflare.com/ajax/libs/font-awesome/4.1.0/css/font-awesome.min.css\"\n",
       "}));\n",
       "$(\"head\").append($(\"<link/>\").attr({\n",
       "  rel:  \"stylesheet\",\n",
       "  type: \"text/css\",\n",
       "  href: \"https://static.turi.com/products/graphlab-create/2.1/canvas/css/canvas.css\"\n",
       "}));\n",
       "\n",
       "            (function(){\n",
       "\n",
       "                var e = null;\n",
       "                if (typeof element == 'undefined') {\n",
       "                    var scripts = document.getElementsByTagName('script');\n",
       "                    var thisScriptTag = scripts[scripts.length-1];\n",
       "                    var parentDiv = thisScriptTag.parentNode;\n",
       "                    e = document.createElement('div');\n",
       "                    parentDiv.appendChild(e);\n",
       "                } else {\n",
       "                    e = element[0];\n",
       "                }\n",
       "\n",
       "                if (typeof requirejs !== 'undefined') {\n",
       "                    // disable load timeout; ipython_app.js is large and can take a while to load.\n",
       "                    requirejs.config({waitSeconds: 0});\n",
       "                }\n",
       "\n",
       "                require(['https://static.turi.com/products/graphlab-create/2.1/canvas/js/ipython_app.js'], function(IPythonApp){\n",
       "                    var app = new IPythonApp();\n",
       "                    app.attachView('sframe','Plots', {\"selected_variable\": {\"name\": [\"sales\"], \"descriptives\": {\"rows\": 21613, \"columns\": 21}, \"view_component\": \"Plots\", \"view_file\": \"sframe\", \"view_params\": {\"y\": \"price\", \"x\": \"bedrooms\", \"columns\": [\"id\", \"date\", \"price\", \"bedrooms\", \"bathrooms\", \"sqft_living\", \"sqft_lot\", \"floors\", \"waterfront\", \"view\", \"condition\", \"grade\", \"sqft_above\", \"sqft_basement\", \"yr_built\", \"yr_renovated\", \"zipcode\", \"lat\", \"long\", \"sqft_living15\", \"sqft_lot15\"], \"view\": \"Scatter Plot\"}, \"view_components\": [\"Summary\", \"Table\", \"Bar Chart\", \"BoxWhisker Plot\", \"Line Chart\", \"Scatter Plot\", \"Heat Map\", \"Plots\"], \"type\": \"SFrame\", \"columns\": [{\"dtype\": \"str\", \"name\": \"id\"}, {\"dtype\": \"datetime\", \"name\": \"date\"}, {\"dtype\": \"float\", \"name\": \"price\"}, {\"dtype\": \"float\", \"name\": \"bedrooms\"}, {\"dtype\": \"float\", \"name\": \"bathrooms\"}, {\"dtype\": \"float\", \"name\": \"sqft_living\"}, {\"dtype\": \"int\", \"name\": \"sqft_lot\"}, {\"dtype\": \"str\", \"name\": \"floors\"}, {\"dtype\": \"int\", \"name\": \"waterfront\"}, {\"dtype\": \"int\", \"name\": \"view\"}, {\"dtype\": \"int\", \"name\": \"condition\"}, {\"dtype\": \"int\", \"name\": \"grade\"}, {\"dtype\": \"int\", \"name\": \"sqft_above\"}, {\"dtype\": \"int\", \"name\": \"sqft_basement\"}, {\"dtype\": \"int\", \"name\": \"yr_built\"}, {\"dtype\": \"int\", \"name\": \"yr_renovated\"}, {\"dtype\": \"str\", \"name\": \"zipcode\"}, {\"dtype\": \"float\", \"name\": \"lat\"}, {\"dtype\": \"float\", \"name\": \"long\"}, {\"dtype\": \"float\", \"name\": \"sqft_living15\"}, {\"dtype\": \"float\", \"name\": \"sqft_lot15\"}], \"column_identifiers\": [\"bathrooms\", \"sqft_living15\", \"sqft_above\", \"grade\", \"yr_built\", \"price\", \"bedrooms\", \"zipcode\", \"long\", \"id\", \"sqft_lot15\", \"sqft_living\", \"floors\", \"sqft_lot\", \"date\", \"waterfront\", \"sqft_basement\", \"yr_renovated\", \"lat\", \"condition\", \"view\"]}, \"complete\": 1, \"ipython\": true, \"progress\": 1.0, \"data\": [[3.0, 285000.0], [3.0, 334000.0], [3.0, 640000.0], [4.0, 360000.0], [2.0, 245000.0], [3.0, 204555.0], [3.0, 605000.0], [3.0, 225900.0], [4.0, 1835000.0], [3.0, 325000.0], [4.0, 538000.0], [4.0, 687000.0], [3.0, 310000.0], [3.0, 275000.0], [7.0, 999000.0], [3.0, 220000.0], [3.0, 995000.0], [4.0, 485000.0], [3.0, 529950.0], [3.0, 355000.0], [3.0, 531000.0], [3.0, 649000.0], [3.0, 379950.0], [3.0, 443950.0], [3.0, 284850.0], [4.0, 476000.0], [4.0, 1135000.0], [3.0, 322000.0], [2.0, 441500.0], [3.0, 281000.0], [3.0, 230000.0], [4.0, 437000.0], [5.0, 470000.0], [3.0, 740000.0], [3.0, 241000.0], [4.0, 705000.0], [2.0, 370000.0], [4.0, 640000.0], [4.0, 386500.0], [3.0, 475000.0], [3.0, 225000.0], [3.0, 460000.0], [3.0, 798000.0], [3.0, 333500.0], [4.0, 1095000.0], [3.0, 455850.0], [4.0, 505000.0], [3.0, 255000.0], [3.0, 430000.0], [6.0, 482500.0], [4.0, 325000.0], [4.0, 265000.0], [3.0, 615000.0], [3.0, 459900.0], [3.0, 316500.0], [4.0, 415000.0], [3.0, 438000.0], [3.0, 400000.0], [2.0, 365000.0], [4.0, 563950.0], [2.0, 319000.0], [2.0, 824000.0], [3.0, 335000.0], [3.0, 557000.0], [5.0, 465000.0], [5.0, 206325.0], [4.0, 899000.0], [3.0, 364988.0], [3.0, 219950.0], [4.0, 540000.0], [5.0, 235000.0], [4.0, 679000.0], [4.0, 880000.0], [3.0, 652450.0], [3.0, 219000.0], [2.0, 576250.0], [2.0, 325000.0], [3.0, 450000.0], [3.0, 362764.0], [4.0, 885000.0], [3.0, 482000.0], [4.0, 360000.0], [6.0, 300000.0], [2.0, 700000.0], [3.0, 170500.0], [4.0, 277000.0], [3.0, 336950.0], [3.0, 460000.0], [2.0, 215000.0], [3.0, 485000.0], [2.0, 439900.0], [3.0, 290000.0], [3.0, 153000.0], [3.0, 432000.0], [3.0, 287000.0], [4.0, 295000.0], [3.0, 479000.0], [2.0, 435000.0], [4.0, 537000.0], [3.0, 266000.0], [3.0, 850830.0], [3.0, 495500.0], [2.0, 281000.0], [4.0, 525000.0], [3.0, 737000.0], [4.0, 419000.0], [4.0, 495800.0], [5.0, 915000.0], [4.0, 380000.0], [3.0, 128000.0], [4.0, 320000.0], [2.0, 282500.0], [4.0, 546800.0], [2.0, 325000.0], [3.0, 539000.0], [3.0, 187000.0], [3.0, 518500.0], [3.0, 435000.0], [4.0, 2271150.0], [4.0, 220000.0], [3.0, 939000.0], [3.0, 437000.0], [4.0, 415000.0], [4.0, 445000.0], [3.0, 175003.0], [3.0, 255000.0], [4.0, 1272000.0], [4.0, 321000.0], [3.0, 214000.0], [3.0, 287000.0], [3.0, 445000.0], [5.0, 875000.0], [2.0, 620000.0], [2.0, 635000.0], [3.0, 605000.0], [4.0, 750000.0], [4.0, 608500.0], [3.0, 600000.0], [3.0, 250000.0], [5.0, 1010000.0], [4.0, 550000.0], [3.0, 620000.0], [4.0, 645000.0], [3.0, 215000.0], [3.0, 240000.0], [4.0, 921500.0], [4.0, 525000.0], [4.0, 1200000.0], [4.0, 530000.0], [4.0, 750000.0], [3.0, 285000.0], [3.0, 658588.0], [4.0, 367300.0], [4.0, 475000.0], [4.0, 890000.0], [2.0, 665000.0], [3.0, 285000.0], [5.0, 657000.0], [4.0, 595000.0], [5.0, 439000.0], [3.0, 230000.0], [3.0, 294570.0], [3.0, 725000.0], [4.0, 215000.0], [3.0, 1100000.0], [4.0, 635000.0], [4.0, 630000.0], [4.0, 807100.0], [2.0, 436000.0], [4.0, 520000.0], [3.0, 317000.0], [3.0, 539000.0], [3.0, 680000.0], [2.0, 459000.0], [3.0, 343000.0], [4.0, 407450.0], [3.0, 510000.0], [4.0, 648360.0], [4.0, 349500.0], [3.0, 295000.0], [3.0, 315000.0], [3.0, 436110.0], [3.0, 415000.0], [2.0, 328000.0], [4.0, 541800.0], [3.0, 1210000.0], [4.0, 266000.0], [3.0, 550000.0], [4.0, 302000.0], [4.0, 1388000.0], [4.0, 965800.0], [3.0, 498000.0], [4.0, 185000.0], [3.0, 400000.0], [4.0, 1200000.0], [3.0, 249000.0], [2.0, 529500.0], [3.0, 278000.0], [4.0, 894000.0], [3.0, 385000.0], [4.0, 210750.0], [3.0, 800000.0], [3.0, 528000.0], [3.0, 226500.0], [4.0, 1104500.0], [4.0, 380000.0], [3.0, 380000.0], [4.0, 299980.0], [4.0, 775000.0], [4.0, 599000.0], [3.0, 885000.0], [4.0, 310000.0], [2.0, 220000.0], [3.0, 465000.0], [4.0, 561600.0], [4.0, 278800.0], [4.0, 733000.0], [4.0, 2196000.0], [5.0, 462000.0], [3.0, 705000.0], [4.0, 460000.0], [2.0, 457000.0], [3.0, 340000.0], [4.0, 2750000.0], [3.0, 985000.0], [3.0, 615000.0], [3.0, 250000.0], [4.0, 1003000.0], [4.0, 305000.0], [3.0, 519000.0], [3.0, 630000.0], [4.0, 641000.0], [3.0, 622500.0], [2.0, 298800.0], [2.0, 280000.0], [6.0, 887000.0], [4.0, 1325000.0], [3.0, 392800.0], [3.0, 327500.0], [4.0, 800000.0], [4.0, 260000.0], [3.0, 460000.0], [3.0, 499000.0], [4.0, 330000.0], [3.0, 667000.0], [4.0, 498445.0], [3.0, 590000.0], [4.0, 658100.0], [4.0, 656500.0], [4.0, 485000.0], [4.0, 450000.0], [3.0, 265000.0], [2.0, 450000.0], [4.0, 490000.0], [2.0, 395825.0], [2.0, 325000.0], [4.0, 870000.0], [3.0, 315000.0], [4.0, 610000.0], [3.0, 385000.0], [3.0, 445000.0], [2.0, 319000.0], [3.0, 492000.0], [3.0, 630000.0], [4.0, 317500.0], [3.0, 762500.0], [3.0, 626000.0], [4.0, 810000.0], [4.0, 270000.0], [3.0, 215000.0], [3.0, 90000.0], [3.0, 324950.0], [3.0, 499950.0], [2.0, 419190.0], [3.0, 475000.0], [2.0, 419000.0], [3.0, 158000.0], [4.0, 750000.0], [5.0, 550000.0], [3.0, 647500.0], [2.0, 403950.0], [3.0, 425000.0], [3.0, 513000.0], [3.0, 515000.0], [3.0, 618080.0], [4.0, 637800.0], [3.0, 137124.0], [3.0, 382000.0], [4.0, 1280000.0], [4.0, 560000.0], [2.0, 499950.0], [4.0, 790000.0], [2.0, 431750.0], [3.0, 310000.0], [4.0, 325000.0], [4.0, 585000.0], [4.0, 900000.0], [3.0, 399950.0], [4.0, 850000.0], [3.0, 242000.0], [2.0, 340000.0], [3.0, 449950.0], [5.0, 850000.0], [4.0, 399888.0], [4.0, 515000.0], [3.0, 336900.0], [4.0, 781000.0], [6.0, 440000.0], [2.0, 302000.0], [5.0, 750000.0], [3.0, 260000.0], [3.0, 300000.0], [3.0, 279950.0], [4.0, 235000.0], [2.0, 245000.0], [4.0, 775000.0], [3.0, 425000.0], [3.0, 185000.0], [2.0, 128000.0], [3.0, 239999.0], [3.0, 529941.0], [4.0, 750000.0], [3.0, 355200.0], [5.0, 620000.0], [4.0, 285000.0], [3.0, 542000.0], [4.0, 460000.0], [6.0, 410000.0], [5.0, 485000.0], [3.0, 654000.0], [3.0, 600000.0], [4.0, 490000.0], [2.0, 380000.0], [3.0, 423000.0], [4.0, 1250000.0], [3.0, 770000.0], [4.0, 825000.0], [4.0, 550000.0], [4.0, 377000.0], [4.0, 765000.0], [2.0, 350000.0], [3.0, 428040.0], [3.0, 613000.0], [3.0, 950000.0], [5.0, 950000.0], [4.0, 825000.0], [2.0, 265000.0], [2.0, 455000.0], [3.0, 249900.0], [3.0, 475000.0], [4.0, 820000.0], [3.0, 459000.0], [4.0, 550000.0], [4.0, 409000.0], [1.0, 316000.0], [4.0, 230000.0], [3.0, 335000.0], [4.0, 344500.0], [3.0, 778000.0], [3.0, 679900.0], [2.0, 450000.0], [4.0, 550000.0], [4.0, 329500.0], [4.0, 330675.0], [5.0, 1328000.0], [5.0, 1308000.0], [4.0, 250000.0], [4.0, 735000.0], [4.0, 785000.0], [4.0, 785000.0], [4.0, 327000.0], [3.0, 458000.0], [4.0, 530000.0], [4.0, 265000.0], [3.0, 1600000.0], [2.0, 123000.0], [4.0, 680000.0], [3.0, 350500.0], [4.0, 485000.0], [4.0, 575000.0], [5.0, 567000.0], [3.0, 430000.0], [4.0, 239900.0], [3.0, 717550.0], [3.0, 850000.0], [2.0, 418500.0], [3.0, 515000.0], [4.0, 449000.0], [2.0, 150000.0], [4.0, 813000.0], [5.0, 1000000.0], [3.0, 410000.0], [4.0, 431000.0], [4.0, 445000.0], [4.0, 1118000.0], [3.0, 506000.0], [3.0, 252000.0], [3.0, 270000.0], [3.0, 717500.0], [5.0, 858450.0], [4.0, 430000.0], [4.0, 354000.0], [3.0, 437500.0], [4.0, 332500.0], [4.0, 835000.0], [4.0, 455000.0], [6.0, 2630000.0], [4.0, 1460000.0], [4.0, 495000.0], [2.0, 213000.0], [4.0, 380000.0], [3.0, 481500.0], [4.0, 652600.0], [3.0, 429000.0], [4.0, 615000.0], [3.0, 570000.0], [4.0, 1127000.0], [5.0, 1540000.0], [3.0, 510000.0], [4.0, 289000.0], [3.0, 184000.0], [2.0, 570000.0], [3.0, 263000.0], [3.0, 380000.0], [5.0, 966000.0], [3.0, 777700.0], [3.0, 310000.0], [3.0, 1300000.0], [4.0, 648000.0], [4.0, 788600.0], [3.0, 428000.0], [3.0, 299000.0], [4.0, 340000.0], [3.0, 237000.0], [3.0, 218250.0], [5.0, 343000.0], [2.0, 445000.0], [3.0, 768000.0], [4.0, 204950.0], [4.0, 290000.0], [3.0, 558000.0], [4.0, 413000.0], [4.0, 1058000.0], [3.0, 350000.0], [2.0, 295000.0], [3.0, 1480000.0], [5.0, 750000.0], [2.0, 289000.0], [4.0, 201000.0], [3.0, 307635.0], [5.0, 804995.0], [2.0, 710000.0], [3.0, 232000.0], [4.0, 770000.0], [4.0, 350000.0], [3.0, 678000.0], [4.0, 550000.0], [4.0, 601002.0], [2.0, 345000.0], [5.0, 1075000.0], [4.0, 885250.0], [3.0, 272000.0], [3.0, 230000.0], [4.0, 350000.0], [4.0, 785000.0], [3.0, 686000.0], [3.0, 305000.0], [3.0, 625000.0], [4.0, 800000.0], [4.0, 680000.0], [3.0, 2250000.0], [4.0, 600000.0], [4.0, 570000.0], [4.0, 745000.0], [3.0, 485000.0], [4.0, 520000.0], [3.0, 425000.0], [4.0, 395000.0], [3.0, 1637500.0], [4.0, 229950.0], [3.0, 426000.0], [3.0, 224000.0], [4.0, 550000.0], [3.0, 1575000.0], [3.0, 385000.0], [3.0, 490000.0], [4.0, 268000.0], [3.0, 560000.0], [2.0, 200000.0], [5.0, 913888.0], [3.0, 254000.0], [4.0, 450000.0], [2.0, 405100.0], [4.0, 715000.0], [3.0, 240000.0], [2.0, 282613.0], [4.0, 642860.0], [5.0, 738515.0], [3.0, 144000.0], [3.0, 340000.0], [3.0, 365250.0], [3.0, 299950.0], [3.0, 239000.0], [3.0, 595000.0], [3.0, 350000.0], [3.0, 920000.0], [2.0, 156000.0], [4.0, 1900000.0], [3.0, 440000.0], [1.0, 385000.0], [2.0, 660000.0], [4.0, 210000.0], [4.0, 745000.0], [4.0, 899900.0], [3.0, 1700000.0], [3.0, 189000.0], [3.0, 330000.0], [1.0, 535000.0], [4.0, 400000.0], [4.0, 675000.0], [4.0, 962800.0], [2.0, 200000.0], [4.0, 1337500.0], [4.0, 1400000.0], [2.0, 170000.0], [3.0, 350000.0], [4.0, 498500.0], [4.0, 650000.0], [4.0, 350000.0], [3.0, 245000.0], [2.0, 787500.0], [3.0, 207000.0], [5.0, 970000.0], [4.0, 1272000.0], [4.0, 395000.0], [4.0, 543000.0], [3.0, 299500.0], [4.0, 1495000.0], [3.0, 524000.0], [3.0, 342000.0], [4.0, 415000.0], [4.0, 760000.0], [5.0, 679950.0], [3.0, 390000.0], [3.0, 375000.0], [4.0, 620000.0], [2.0, 435000.0], [3.0, 389950.0], [3.0, 275000.0], [3.0, 425000.0], [3.0, 335000.0], [4.0, 968933.0], [5.0, 519000.0], [3.0, 456150.0], [3.0, 449000.0], [4.0, 735000.0], [4.0, 236000.0], [4.0, 499000.0], [3.0, 625000.0], [5.0, 660000.0], [3.0, 455000.0], [4.0, 728935.0], [4.0, 1583000.0], [4.0, 210000.0], [4.0, 350000.0], [4.0, 600000.0], [4.0, 625000.0], [4.0, 625000.0], [2.0, 225000.0], [4.0, 674000.0], [4.0, 363000.0], [3.0, 420000.0], [3.0, 245000.0], [1.0, 362000.0], [3.0, 360000.0], [4.0, 833000.0], [2.0, 325000.0], [5.0, 260000.0], [3.0, 492000.0], [0.0, 240000.0], [3.0, 700000.0], [5.0, 1600000.0], [2.0, 376000.0], [5.0, 1700000.0], [4.0, 424000.0], [3.0, 453000.0], [3.0, 562000.0], [5.0, 2575000.0], [4.0, 335000.0], [3.0, 247500.0], [3.0, 368750.0], [4.0, 197000.0], [3.0, 775000.0], [4.0, 296000.0], [4.0, 1309500.0], [4.0, 340000.0], [4.0, 554950.0], [4.0, 975000.0], [4.0, 500000.0], [3.0, 535100.0], [2.0, 189000.0], [3.0, 474950.0], [4.0, 449950.0], [4.0, 350000.0], [2.0, 369950.0], [3.0, 663000.0], [2.0, 531000.0], [3.0, 350000.0], [4.0, 392000.0], [4.0, 799900.0], [4.0, 750000.0], [4.0, 1395000.0], [4.0, 582000.0], [3.0, 252000.0], [4.0, 360000.0], [3.0, 398750.0], [4.0, 411000.0], [5.0, 380000.0], [3.0, 525000.0], [2.0, 295000.0], [3.0, 345000.0], [3.0, 276000.0], [3.0, 810000.0], [3.0, 840000.0], [1.0, 194000.0], [6.0, 465000.0], [3.0, 274000.0], [4.0, 305000.0], [4.0, 320000.0], [3.0, 325000.0], [3.0, 195000.0], [4.0, 385000.0], [3.0, 384000.0], [3.0, 362500.0], [3.0, 539950.0], [3.0, 502000.0], [3.0, 350000.0], [3.0, 245000.0], [3.0, 320000.0], [3.0, 1120000.0], [0.0, 235000.0], [3.0, 261000.0], [4.0, 600000.0], [6.0, 650000.0], [3.0, 766950.0], [3.0, 593567.0], [3.0, 390000.0], [4.0, 1084500.0], [3.0, 410000.0], [1.0, 264000.0], [4.0, 397950.0], [4.0, 502000.0], [3.0, 575000.0], [3.0, 275000.0], [2.0, 160000.0], [2.0, 459500.0], [3.0, 3070000.0], [4.0, 505000.0], [4.0, 720000.0], [3.0, 1400000.0], [3.0, 202500.0], [5.0, 1180000.0], [3.0, 475000.0], [3.0, 362500.0], [4.0, 525000.0], [3.0, 331000.0], [4.0, 315000.0], [2.0, 395000.0], [2.0, 295000.0], [4.0, 425000.0], [1.0, 309950.0], [2.0, 420000.0], [3.0, 295000.0], [4.0, 865000.0], [3.0, 577450.0], [3.0, 560000.0], [3.0, 615000.0], [2.0, 399000.0], [3.0, 465000.0], [5.0, 719000.0], [4.0, 630000.0], [3.0, 725000.0], [4.0, 225000.0], [4.0, 413000.0], [3.0, 324500.0], [4.0, 450000.0], [3.0, 320000.0], [4.0, 555000.0], [4.0, 630000.0], [4.0, 749950.0], [3.0, 427500.0], [3.0, 275000.0], [4.0, 359900.0], [2.0, 720000.0], [4.0, 484000.0], [3.0, 470000.0], [3.0, 925500.0], [2.0, 530000.0], [4.0, 247500.0], [2.0, 340000.0], [2.0, 795000.0], [2.0, 245000.0], [4.0, 180000.0], [4.0, 420000.0], [4.0, 586000.0], [3.0, 574000.0], [3.0, 440000.0], [4.0, 320000.0], [3.0, 190000.0], [4.0, 784950.0], [4.0, 592500.0], [4.0, 455000.0], [3.0, 385000.0], [3.0, 500000.0], [3.0, 555000.0], [3.0, 770000.0], [5.0, 707000.0], [3.0, 235000.0], [3.0, 539900.0], [3.0, 605000.0], [3.0, 569000.0], [3.0, 390000.0], [4.0, 1580000.0], [2.0, 649000.0], [4.0, 340000.0], [4.0, 520000.0], [3.0, 332500.0], [2.0, 273000.0], [3.0, 264950.0], [2.0, 549000.0], [2.0, 360000.0], [3.0, 298500.0], [3.0, 253000.0], [3.0, 356000.0], [4.0, 440000.0], [2.0, 370000.0], [4.0, 2075000.0], [5.0, 312891.0], [4.0, 749950.0], [5.0, 438000.0], [3.0, 717000.0], [3.0, 235000.0], [3.0, 337500.0], [4.0, 435000.0], [2.0, 705000.0], [3.0, 210000.0], [4.0, 364000.0], [3.0, 408000.0], [4.0, 641000.0], [4.0, 345000.0], [3.0, 249900.0], [4.0, 212000.0], [3.0, 480000.0], [3.0, 584000.0], [3.0, 325000.0], [5.0, 794500.0], [5.0, 942500.0], [3.0, 380000.0], [4.0, 856600.0], [5.0, 550000.0], [4.0, 976000.0], [3.0, 400000.0], [3.0, 320000.0], [4.0, 234950.0], [3.0, 405300.0], [3.0, 290000.0], [2.0, 300500.0], [4.0, 685000.0], [4.0, 756000.0], [4.0, 1250000.0], [5.0, 328000.0], [2.0, 422500.0], [4.0, 625000.0], [3.0, 350000.0], [2.0, 259950.0], [3.0, 379900.0], [3.0, 230000.0], [4.0, 869950.0], [4.0, 603000.0], [4.0, 1443917.0], [3.0, 199990.0], [3.0, 499950.0], [3.0, 572800.0], [4.0, 546800.0], [5.0, 2750000.0], [3.0, 417000.0], [4.0, 300000.0], [3.0, 345000.0], [2.0, 380950.0], [3.0, 319990.0], [3.0, 398000.0], [3.0, 499000.0], [3.0, 465000.0], [3.0, 725000.0], [3.0, 640000.0], [4.0, 263000.0], [3.0, 338995.0], [3.0, 485000.0], [2.0, 405000.0], [3.0, 295000.0], [3.0, 306000.0], [3.0, 390000.0], [3.0, 599000.0], [4.0, 489000.0], [3.0, 250200.0], [4.0, 775950.0], [4.0, 799000.0], [3.0, 849000.0], [4.0, 1360000.0], [3.0, 361000.0], [4.0, 734500.0], [2.0, 350000.0], [2.0, 229950.0], [3.0, 396000.0], [3.0, 400000.0], [3.0, 330000.0], [3.0, 385000.0], [2.0, 826000.0], [4.0, 1445000.0], [3.0, 625000.0], [3.0, 375000.0], [4.0, 655000.0], [3.0, 280000.0], [3.0, 287500.0], [4.0, 545000.0], [3.0, 260000.0], [5.0, 620000.0], [2.0, 395000.0], [3.0, 619100.0], [4.0, 380000.0], [3.0, 248000.0], [4.0, 329950.0], [3.0, 450000.0], [3.0, 412500.0], [2.0, 499000.0], [4.0, 635000.0], [4.0, 414000.0], [3.0, 320000.0], [4.0, 1230000.0], [3.0, 280000.0], [4.0, 525000.0], [4.0, 323000.0], [5.0, 975000.0], [4.0, 271000.0], [2.0, 550000.0], [4.0, 433495.0], [3.0, 170000.0], [3.0, 808250.0], [3.0, 345000.0], [4.0, 786000.0], [5.0, 898000.0], [2.0, 475000.0], [3.0, 600000.0], [2.0, 176000.0], [3.0, 575000.0], [4.0, 338800.0], [2.0, 530000.0], [3.0, 560000.0], [4.0, 1007500.0], [3.0, 500000.0], [4.0, 760000.0], [4.0, 722500.0], [3.0, 1100000.0], [3.0, 585000.0], [4.0, 525000.0], [3.0, 330000.0], [3.0, 355000.0], [4.0, 1450000.0], [4.0, 239000.0], [2.0, 312000.0], [3.0, 410000.0], [3.0, 445500.0], [5.0, 800866.0], [4.0, 380000.0], [4.0, 600000.0], [3.0, 726000.0], [3.0, 425000.0], [3.0, 556000.0], [4.0, 492000.0], [4.0, 462000.0], [3.0, 414900.0], [5.0, 549900.0], [3.0, 650000.0], [3.0, 720000.0], [3.0, 215000.0], [4.0, 309950.0], [4.0, 742500.0], [4.0, 324950.0], [3.0, 250000.0], [4.0, 322500.0], [2.0, 265000.0], [3.0, 405000.0], [3.0, 465000.0], [3.0, 700000.0], [3.0, 227490.0], [3.0, 495500.0], [3.0, 257000.0], [2.0, 750000.0], [3.0, 245000.0], [3.0, 245000.0], [2.0, 695000.0], [3.0, 475000.0], [3.0, 495000.0], [2.0, 451555.0], [4.0, 150000.0], [4.0, 620000.0], [3.0, 210000.0], [3.0, 499900.0], [4.0, 685000.0], [3.0, 435000.0], [1.0, 229050.0], [3.0, 225000.0], [4.0, 615750.0], [3.0, 850000.0], [3.0, 439000.0], [4.0, 360000.0], [3.0, 750000.0], [3.0, 458000.0], [2.0, 208000.0], [3.0, 279950.0], [5.0, 624000.0], [3.0, 399950.0], [3.0, 160000.0], [2.0, 299950.0], [3.0, 295000.0], [2.0, 265000.0], [3.0, 402000.0], [3.0, 209900.0], [2.0, 445500.0], [3.0, 630000.0], [3.0, 195000.0], [3.0, 440000.0], [3.0, 220000.0], [5.0, 465000.0], [3.0, 745000.0], [4.0, 770000.0], [4.0, 846450.0], [3.0, 340000.0], [4.0, 200000.0], [4.0, 272000.0], [4.0, 831000.0], [3.0, 470000.0], [3.0, 290750.0], [3.0, 448500.0], [3.0, 599950.0], [4.0, 340000.0], [2.0, 129000.0], [3.0, 510000.0], [5.0, 739900.0], [3.0, 1029900.0], [6.0, 1020000.0], [2.0, 310000.0], [4.0, 784000.0], [3.0, 530000.0], [3.0, 575000.0], [4.0, 490000.0], [3.0, 249950.0], [4.0, 333000.0], [3.0, 255000.0], [3.0, 825000.0], [4.0, 400000.0], [3.0, 600000.0], [3.0, 395000.0], [3.0, 243000.0], [3.0, 765000.0], [4.0, 596500.0], [3.0, 275000.0], [3.0, 733500.0], [3.0, 368250.0], [3.0, 315000.0], [3.0, 532500.0], [3.0, 560000.0], [3.0, 490000.0], [3.0, 535000.0], [2.0, 779000.0], [4.0, 396800.0], [3.0, 842500.0], [4.0, 500000.0], [3.0, 349000.0], [2.0, 230000.0], [2.0, 280000.0], [3.0, 399950.0], [4.0, 835000.0], [4.0, 359000.0], [4.0, 535000.0], [3.0, 248000.0], [4.0, 255000.0], [3.0, 455000.0], [3.0, 536000.0], [3.0, 484950.0], [3.0, 249950.0], [4.0, 700000.0], [3.0, 325000.0], [3.0, 400000.0], [5.0, 549000.0], [4.0, 739000.0], [3.0, 349950.0], [4.0, 859990.0], [3.0, 915000.0], [3.0, 179950.0]], \"columns\": [{\"dtype\": \"str\", \"name\": \"id\"}, {\"dtype\": \"datetime\", \"name\": \"date\"}, {\"dtype\": \"float\", \"name\": \"price\"}, {\"dtype\": \"float\", \"name\": \"bedrooms\"}, {\"dtype\": \"float\", \"name\": \"bathrooms\"}, {\"dtype\": \"float\", \"name\": \"sqft_living\"}, {\"dtype\": \"int\", \"name\": \"sqft_lot\"}, {\"dtype\": \"str\", \"name\": \"floors\"}, {\"dtype\": \"int\", \"name\": \"waterfront\"}, {\"dtype\": \"int\", \"name\": \"view\"}, {\"dtype\": \"int\", \"name\": \"condition\"}, {\"dtype\": \"int\", \"name\": \"grade\"}, {\"dtype\": \"int\", \"name\": \"sqft_above\"}, {\"dtype\": \"int\", \"name\": \"sqft_basement\"}, {\"dtype\": \"int\", \"name\": \"yr_built\"}, {\"dtype\": \"int\", \"name\": \"yr_renovated\"}, {\"dtype\": \"str\", \"name\": \"zipcode\"}, {\"dtype\": \"float\", \"name\": \"lat\"}, {\"dtype\": \"float\", \"name\": \"long\"}, {\"dtype\": \"float\", \"name\": \"sqft_living15\"}, {\"dtype\": \"float\", \"name\": \"sqft_lot15\"}]}, e);\n",
       "                });\n",
       "            })();\n",
       "        "
      ]
     },
     "metadata": {},
     "output_type": "display_data"
    },
    {
     "data": {
      "text/plain": [
       "[<matplotlib.lines.Line2D at 0x7f77286fded0>,\n",
       " <matplotlib.lines.Line2D at 0x7f77286fdf90>]"
      ]
     },
     "execution_count": 42,
     "metadata": {},
     "output_type": "execute_result"
    },
    {
     "data": {
      "image/png": "[encoded data removed]",
      "text/plain": [
       "<matplotlib.figure.Figure at 0x7f775008a690>"
      ]
     },
     "metadata": {},
     "output_type": "display_data"
    }
   ],
   "source": [
    "# Estimate the slope and intercept for predicting 'price' based on 'bedrooms'\n",
    "(intercept2,slope2) = simple_linear_regression(sales['bedrooms'],sales['price'])\n",
    "print intercept2,slope2\n",
    "\n",
    "sales.show(view = 'Scatter Plot',x='bedrooms',y='price')\n",
    "plt.plot(sales['bedrooms'],sales['price'],'.',\n",
    "        train_data['bedrooms'],get_regression_predictions(train_data['bedrooms'], intercept2, slope2),'-')"
   ]
  },
  {
   "cell_type": "markdown",
   "metadata": {},
   "source": [
    "# Test your Linear Regression Algorithm"
   ]
  },
  {
   "cell_type": "markdown",
   "metadata": {},
   "source": [
    "Now we have two models for predicting the price of a house. How do we know which one is better? Calculate the RSS on the TEST data (remember this data wasn't involved in learning the model). Compute the RSS from predicting prices using bedrooms and from predicting prices using squarefeet.\n",
    "\n",
    "**Quiz Question: Which model (square feet or bedrooms) has lowest RSS on TEST data? Think about why this might be the case.**"
   ]
  },
  {
   "cell_type": "code",
   "execution_count": 43,
   "metadata": {
    "collapsed": false
   },
   "outputs": [
    {
     "name": "stdout",
     "output_type": "stream",
     "text": [
      "4.92215934964e+14\n"
     ]
    }
   ],
   "source": [
    "# Compute RSS when using bedrooms on TEST data:\n",
    "RSS_bedrooms = get_residual_sum_of_squares(test_data['bedrooms'],test_data['price'],intercept2,slope2)\n",
    "print RSS_bedrooms"
   ]
  },
  {
   "cell_type": "code",
   "execution_count": 44,
   "metadata": {
    "collapsed": false
   },
   "outputs": [
    {
     "name": "stdout",
     "output_type": "stream",
     "text": [
      "2.75402936247e+14\n"
     ]
    }
   ],
   "source": [
    "# Compute RSS when using squarefeet on TEST data:\n",
    "RSS_sqft_living = get_residual_sum_of_squares(test_data['sqft_living'],test_data['price'],sqft_intercept,sqft_slope)\n",
    "print RSS_sqft_living"
   ]
  },
  {
   "cell_type": "code",
   "execution_count": null,
   "metadata": {
    "collapsed": true
   },
   "outputs": [],
   "source": []
  }
 ],
 "metadata": {
  "kernelspec": {
   "display_name": "Python 2",
   "language": "python",
   "name": "python2"
  },
  "language_info": {
   "codemirror_mode": {
    "name": "ipython",
    "version": 2
   },
   "file_extension": ".py",
   "mimetype": "text/x-python",
   "name": "python",
   "nbconvert_exporter": "python",
   "pygments_lexer": "ipython2",
   "version": "2.7.13"
  }
 },
 "nbformat": 4,
 "nbformat_minor": 0
}
